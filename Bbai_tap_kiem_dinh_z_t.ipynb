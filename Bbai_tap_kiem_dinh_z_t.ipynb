{
  "cells": [
    {
      "cell_type": "markdown",
      "metadata": {
        "id": "view-in-github",
        "colab_type": "text"
      },
      "source": [
        "<a href=\"https://colab.research.google.com/github/kinhbanh123/EZPZ/blob/main/Bbai_tap_kiem_dinh_z_t.ipynb\" target=\"_parent\"><img src=\"https://colab.research.google.com/assets/colab-badge.svg\" alt=\"Open In Colab\"/></a>"
      ]
    },
    {
      "cell_type": "code",
      "source": [
        "import numpy as np\n",
        "import pandas as pd\n",
        "import random\n",
        "from scipy import stats as st\n",
        "from statsmodels.stats.weightstats import ztest\n",
        "import scipy.stats as ss\n",
        "import warnings\n",
        "import matplotlib.pyplot as plt\n",
        "import seaborn as sns\n",
        "%matplotlib inline"
      ],
      "metadata": {
        "id": "CfP1Hf2AIE1k",
        "colab": {
          "base_uri": "https://localhost:8080/"
        },
        "outputId": "78d53276-f3e7-4fcb-c66e-1fa1f161a3b6"
      },
      "execution_count": 2,
      "outputs": [
        {
          "output_type": "stream",
          "name": "stderr",
          "text": [
            "/usr/local/lib/python3.7/dist-packages/statsmodels/tools/_testing.py:19: FutureWarning: pandas.util.testing is deprecated. Use the functions in the public API at pandas.testing instead.\n",
            "  import pandas.util.testing as tm\n"
          ]
        }
      ]
    },
    {
      "cell_type": "markdown",
      "metadata": {
        "id": "BUXyJNXPD6xV"
      },
      "source": [
        "XÂY DỰNG CHƯƠNG TRÌNH KIỂM ĐỊNH Z (HOẶC T) CHO CÁC BÀI TẬP SAU\n",
        "\n",
        "Gợi ý:\n",
        "\n",
        "- Số liệu được sinh ngẫu nhiên theo phân phối chuẩn\n",
        "- Sử dụng gói phần mềm statsmodels để tiến hành kiểm định\n",
        "- Đối với các bài tập kiểm định giả thuyết thì sinh viên cần phát biểu các giả thuyết (bằng tiếng Việt) $H_{0}$ và $H_{a}$ trước khi lập trình kiểm định"
      ]
    },
    {
      "cell_type": "markdown",
      "metadata": {
        "id": "3nILXfhGD6xZ"
      },
      "source": [
        "Bài 1: You’re a Q/C inspector for Gallo. The sample standard deviation for 2-liter bottles is .05 liters.  A random sample of 100 bottles showed sasmple mean = 1.99 liters.  What is the 90%  confidence interval estimate of the true mean amount in 2-liter bottles? \n",
        "\n",
        "Xây dựng giả thuyết:\n",
        "\n",
        "$$H_{0}: \\mu_{1} = 1.99$$\n",
        "\n",
        "Giả thuyết thay thế:\n",
        "\n",
        "$$H_{a}: \\mu_{1} \\neq 1.99$$"
      ]
    },
    {
      "cell_type": "code",
      "execution_count": 3,
      "metadata": {
        "id": "mLLBQTfvD6xa",
        "colab": {
          "base_uri": "https://localhost:8080/"
        },
        "outputId": "02c2ebc5-bf23-43f2-db63-84d781ecf254"
      },
      "outputs": [
        {
          "output_type": "stream",
          "name": "stdout",
          "text": [
            "[2.03020473 1.99954509 1.91626364 2.01121889 2.07836602 1.94605167\n",
            " 1.94777505 2.00068335 1.94770991 1.92629526 2.01245221 1.99342107\n",
            " 1.9708254  1.9953278  2.04588139 2.13065731 1.96703296 1.99440223\n",
            " 1.96128455 1.99931009 1.96506574 1.95468024 2.01061052 2.00734336\n",
            " 1.96477051 1.96911917 2.03349621 2.03830529 2.0070423  2.07062877\n",
            " 1.89547658 1.99969372 2.00377694 1.96852105 2.06904332 1.95763014\n",
            " 1.96333999 2.08395775 1.96945502 1.96444786 1.96041345 1.97008836\n",
            " 2.05607097 1.91166302 2.07232782 1.95178775 2.01766318 1.98812606\n",
            " 1.98127572 1.98602431 1.84996379 1.95972768 2.00319134 1.9408125\n",
            " 1.96205396 2.05910497 1.99735933 2.08133565 1.93605258 1.96190102\n",
            " 2.0076152  1.96821638 1.91807249 2.03958191 1.99325387 1.90443629\n",
            " 2.08987624 1.98676451 1.94694183 2.0167067  2.02666514 1.92944173\n",
            " 1.99792882 1.97923221 2.03282536 2.04464235 1.9732659  1.91352095\n",
            " 2.02957903 2.00373198 1.97977345 2.06929665 1.9807095  1.93949508\n",
            " 1.99992908 1.92556376 1.95920693 2.04709549 1.96589591 1.97963227\n",
            " 2.00295221 2.00236558 2.01822442 1.97177027 1.9116163  1.95879987\n",
            " 1.94726348 1.99059221 2.05804398 1.93438438]\n"
          ]
        },
        {
          "output_type": "execute_result",
          "data": {
            "text/plain": [
              "(1.980512981812933, 1.9967463426207621)"
            ]
          },
          "metadata": {},
          "execution_count": 3
        }
      ],
      "source": [
        "mean = 1.99\n",
        "std = 0.05\n",
        "N = 1000\n",
        "samples = np.random.normal(mean, std, N)\n",
        "a = samples[:100]\n",
        "print(a)\n",
        "st.t.interval(alpha=0.90,\n",
        "              df=len(a)-1,\n",
        "              loc=np.mean(a), \n",
        "              scale=st.sem(a))\n"
      ]
    },
    {
      "cell_type": "markdown",
      "metadata": {
        "id": "JOMvLNmSD6xb"
      },
      "source": [
        "Bài 2: You’re a time study analyst in manufacturing.  You’ve recorded the following task times (min.): 3.6, 4.2, 4.0, 3.5, 3.8, 3.1. What is the 90% confidence interval estimate of the population mean task time? \n",
        "\n",
        "Xây dựng giả thuyết:\n",
        "\n",
        "$$H_{0}: \\mu_{1} = 3.7$$\n",
        "\n",
        "Giả thuyết thay thế:\n",
        "\n",
        "$$H_{a}: \\mu_{1} \\neq 3.7$$"
      ]
    },
    {
      "cell_type": "code",
      "execution_count": 4,
      "metadata": {
        "id": "6H63jpLbD6xb",
        "colab": {
          "base_uri": "https://localhost:8080/"
        },
        "outputId": "baa81074-3f34-40aa-88ff-f0956a1720cc"
      },
      "outputs": [
        {
          "output_type": "stream",
          "name": "stdout",
          "text": [
            "3.7000000000000006\n",
            "23.246391910189104\n",
            "2.7412823063034456e-06\n"
          ]
        }
      ],
      "source": [
        "a = [3.6, 4.2, 4.0, 3.5, 3.8, 3.1]\n",
        "mean = np.mean(a)\n",
        "print(mean)\n",
        "std = np.std(a)\n",
        "alpha = 0.1\n",
        "ttest_Score, p_value=ss.ttest_1samp(a, 0)\n",
        "print(ttest_Score)\n",
        "print(p_value)\n",
        "\n"
      ]
    },
    {
      "cell_type": "markdown",
      "metadata": {
        "id": "RtG5gdf-D6xc"
      },
      "source": [
        "Bài 3: Does an average box of cereal contain 368 grams of cereal?  A random sample of 25 boxes had $\\overline{\\rm x}$ = 372.5.  The company has specified $\\sigma$ to be 25 grams.  Test at the .05 level of significance.\n",
        "\n",
        "Xây dựng giả thuyết:\n",
        "\n",
        "$$H_{0}: \\mu_{1} = 368$$\n",
        "\n",
        "Giả thuyết thay thế:\n",
        "\n",
        "$$H_{a}: \\mu_{1} \\neq 368$$"
      ]
    },
    {
      "cell_type": "code",
      "execution_count": 5,
      "metadata": {
        "id": "Uk_x5uBGD6xc",
        "colab": {
          "base_uri": "https://localhost:8080/"
        },
        "outputId": "5dcf5743-5d79-4331-c1d8-65c73e0b5b78"
      },
      "outputs": [
        {
          "output_type": "stream",
          "name": "stdout",
          "text": [
            "Có bằng chứng để bác bỏ giả thuyết H0 tức là box có giá trị khác 368\n"
          ]
        }
      ],
      "source": [
        "mean = 372.5\n",
        "std = 25\n",
        "N = 1000\n",
        "samples = np.random.normal(mean, std, N)\n",
        "a = samples[:25]\n",
        "null_mean = 368\n",
        "alpha = 0.05\n",
        "ztest_Score, p_value= ztest(samples, value = null_mean, alternative='larger')\n",
        "if(p_value <  alpha):\n",
        "  print(\"Có bằng chứng để bác bỏ giả thuyết H0 tức là box có giá trị khác 368\")\n",
        "else:\n",
        "  print(\"Chưa có bằng chứng để bác bỏ giả thuyết H0, tức là vẫn phải chấp nhận box có giá trị = 368\")"
      ]
    },
    {
      "cell_type": "markdown",
      "metadata": {
        "id": "wlHIgNKvD6xd"
      },
      "source": [
        "Bài 4: You’re a Q/C inspector.  You want to find out if a new machine is making electrical cords to customer specification: average breaking strength of 70 lb. with $\\sigma$ = 3.5 lb.  You take a sample of 36 cords & compute a sample mean of 69.7 lb.  At the .05 level of significance, is there evidence that the machine is not meeting the average breaking strength?\n",
        "\n",
        "Xây dựng giả thuyết:\n",
        "\n",
        "$$H_{0}: \\mu_{1} = 70$$\n",
        "\n",
        "Giả thuyết thay thế:\n",
        "\n",
        "$$H_{a}: \\mu_{1} \\neq 70$$"
      ]
    },
    {
      "cell_type": "code",
      "execution_count": 6,
      "metadata": {
        "id": "NW7hzx-pD6xe",
        "colab": {
          "base_uri": "https://localhost:8080/"
        },
        "outputId": "662b1165-2047-4749-df11-edace7ded220"
      },
      "outputs": [
        {
          "output_type": "stream",
          "name": "stdout",
          "text": [
            "Có bằng chứng để bác bỏ giả thuyết H0, tức là lực khác 70\n"
          ]
        }
      ],
      "source": [
        "mean = 70\n",
        "std = 3.5\n",
        "N = 1000\n",
        "samples = np.random.normal(mean, std, N)\n",
        "a = samples[:36]\n",
        "null_mean = 69.7\n",
        "alpha = 0.05\n",
        "ztest_Score, p_value= ztest(samples, value = null_mean, alternative='larger')\n",
        "if(p_value <  alpha):\n",
        "  print(\"Có bằng chứng để bác bỏ giả thuyết H0, tức là lực khác 70\")\n",
        "else:\n",
        "  print(\"Chưa có bằng chứng để bác bỏ giả thuyết H0, tức là phải chấp nhận lực = 70\")"
      ]
    },
    {
      "cell_type": "markdown",
      "metadata": {
        "id": "Nzr_pochD6xe"
      },
      "source": [
        "Bài 5: Does an average box of cereal contain more than 368 grams of cereal?  A random sample of 25 boxes showed $\\overline{\\rm x}$ =  372.5.  The company has specified $\\sigma$ to be 25 grams.  Test at the .05 level of significance.\n",
        "\n",
        "Xây dựng giả thuyết:\n",
        "\n",
        "$$H_{0}: \\mu_{1} = 368$$\n",
        "\n",
        "Giả thuyết thay thế:\n",
        "\n",
        "$$H_{a}: \\mu_{1} \\neq 368$$"
      ]
    },
    {
      "cell_type": "code",
      "execution_count": 7,
      "metadata": {
        "id": "m1L3NkbxD6xf",
        "colab": {
          "base_uri": "https://localhost:8080/"
        },
        "outputId": "108c856d-f0b9-410f-f0f0-8351e225b27b"
      },
      "outputs": [
        {
          "output_type": "stream",
          "name": "stdout",
          "text": [
            "Có bằng chứng để bác bỏ giả thuyết H0 tức là box có giá trị khác 368\n"
          ]
        }
      ],
      "source": [
        "mean = 372.5\n",
        "std = 25\n",
        "N = 1000\n",
        "samples = np.random.normal(mean, std, N)\n",
        "a = samples[:25]\n",
        "null_mean = 368\n",
        "alpha = 0.05\n",
        "ztest_Score, p_value= ztest(samples, value = null_mean, alternative='larger')\n",
        "if(p_value <  alpha):\n",
        "  print(\"Có bằng chứng để bác bỏ giả thuyết H0 tức là box có giá trị khác 368\")\n",
        "else:\n",
        "  print(\"Chưa có bằng chứng để bác bỏ giả thuyết H0, tức là vẫn phải chấp nhận box có giá trị = 368\")"
      ]
    },
    {
      "cell_type": "markdown",
      "metadata": {
        "id": "x8dX8928D6xf"
      },
      "source": [
        "Bài 6: You’re an analyst for Ford.  You want to find out if the average miles per gallon of Escorts is at least 32 mpg. Similar models have a standard deviation of 3.8 mpg. You take a sample of 60 Escorts & compute a sample mean of 30.7 mpg. At the .01 level of significance, is there evidence that the miles per gallon is less than 32?\n",
        "\n",
        "Xây dựng giả thuyết:\n",
        "\n",
        "$$H_{0}: \\mu_{1} = 32$$\n",
        "\n",
        "Giả thuyết thay thế:\n",
        "\n",
        "$$H_{a}: \\mu_{1} < 32$$"
      ]
    },
    {
      "cell_type": "code",
      "execution_count": 8,
      "metadata": {
        "id": "4LXW0wNZD6xg",
        "colab": {
          "base_uri": "https://localhost:8080/"
        },
        "outputId": "dde7dab1-7c45-4879-df9c-b94aab037f15"
      },
      "outputs": [
        {
          "output_type": "stream",
          "name": "stdout",
          "text": [
            "Chưa có bằng chứng để bác bỏ giả thuyết H0, tức là sẽ lớn hơn 32mpg\n"
          ]
        }
      ],
      "source": [
        "mean = 30.7\n",
        "std = 3.8\n",
        "N = 1000\n",
        "samples = np.random.normal(mean, std, N)\n",
        "a = samples[:60]\n",
        "null_mean = 32\n",
        "alpha = 0.01\n",
        "ztest_Score, p_value= ztest(samples, value = null_mean, alternative='larger')\n",
        "if(p_value <  alpha):\n",
        "  print(\"Có bằng chứng để bác bỏ giả thuyết H0, tức là nhỏ hơn 32mpg\")\n",
        "else:\n",
        "  print(\"Chưa có bằng chứng để bác bỏ giả thuyết H0, tức là sẽ lớn hơn 32mpg\")"
      ]
    },
    {
      "cell_type": "markdown",
      "metadata": {
        "id": "6vTrYiQID6xg"
      },
      "source": [
        "Bài 7: Does an average box of cereal contain 368 grams of cereal?  A random sample of 25 boxes showed $\\overline{\\rm x}$ = 372.5.  The company has specified $\\sigma$ to be 15 grams.  Find the p-Value.\n",
        "\n",
        "Xây dựng giả thuyết:\n",
        "\n",
        "$$H_{0}: \\mu_{1} = 368$$\n",
        "\n",
        "Giả thuyết thay thế:\n",
        "\n",
        "$$H_{a}: \\mu_{1} \\neq 368$$"
      ]
    },
    {
      "cell_type": "code",
      "execution_count": 9,
      "metadata": {
        "id": "iEnHf9LFD6xg",
        "colab": {
          "base_uri": "https://localhost:8080/"
        },
        "outputId": "ff767e5c-3961-45a0-cf5e-82c8c9e81a53"
      },
      "outputs": [
        {
          "output_type": "stream",
          "name": "stdout",
          "text": [
            "p value la 3.7022544893845845e-20\n"
          ]
        }
      ],
      "source": [
        "mean = 372.5\n",
        "std = 15\n",
        "N = 1000\n",
        "samples = np.random.normal(mean, std, N)\n",
        "a = samples[:25]\n",
        "null_mean = 368\n",
        "ztest_Score, p_value= ztest(samples, value = null_mean, alternative='larger')\n",
        "print('p value la',p_value)"
      ]
    },
    {
      "cell_type": "markdown",
      "metadata": {
        "id": "-K16ykkhD6xh"
      },
      "source": [
        "Bài 8: Does an average box of cereal contain more than 368 grams of cereal?  A random sample of 25 boxes showed $\\overline{\\rm x}$ = 372.5.  The company has specified $\\sigma$ to be 15 grams.  Find the p-Value.\n",
        "\n",
        "Xây dựng giả thuyết:\n",
        "\n",
        "$$H_{0}: \\mu_{1} = 368$$\n",
        "\n",
        "Giả thuyết thay thế:\n",
        "\n",
        "$$H_{a}: \\mu_{1} \\neq 368$$"
      ]
    },
    {
      "cell_type": "code",
      "execution_count": 22,
      "metadata": {
        "id": "PMUn9RnTD6xh",
        "colab": {
          "base_uri": "https://localhost:8080/"
        },
        "outputId": "b11b64cb-677c-45ce-b4a9-bd3f6b607dea"
      },
      "outputs": [
        {
          "output_type": "stream",
          "name": "stdout",
          "text": [
            "p value la 0.46240925538553523\n"
          ]
        }
      ],
      "source": [
        "mean = 372.5\n",
        "std = 15\n",
        "N = 1000\n",
        "samples = np.random.normal(mean, std, N)\n",
        "a = samples[:25]\n",
        "null_mean = 368\n",
        "ttest_Score, p_value= st.ttest_1samp(samples,372.5)\n",
        "print('p value la',p_value)"
      ]
    },
    {
      "cell_type": "markdown",
      "metadata": {
        "id": "NAlBq929D6xh"
      },
      "source": [
        "Bài 9: You’re an analyst for Ford.  You want to find out if the average miles per gallon of Escorts is less than 32 mpg.   Similar models have a standard deviation of 3.8 mpg.  You take a sample of 60 Escorts & compute a sample mean of 30.7 mpg.  What is the value of the observed level of significance (p-Value)?\n",
        "\n",
        "Xây dựng giả thuyết:\n",
        "\n",
        "$$H_{0}: \\mu_{1} = 32$$\n",
        "\n",
        "Giả thuyết thay thế:\n",
        "\n",
        "$$H_{a}: \\mu_{1} < 32$$"
      ]
    },
    {
      "cell_type": "code",
      "execution_count": 23,
      "metadata": {
        "id": "10LIS_6wD6xi",
        "colab": {
          "base_uri": "https://localhost:8080/"
        },
        "outputId": "4842197c-1e3d-42c0-8cf4-43a8d12170ce"
      },
      "outputs": [
        {
          "output_type": "stream",
          "name": "stdout",
          "text": [
            "p value la  1.5300934174719918e-32\n"
          ]
        }
      ],
      "source": [
        "mean = 32\n",
        "std = 3.8\n",
        "N = 1000\n",
        "samples = np.random.normal(mean, std, N)\n",
        "a = samples[:60]\n",
        "null_mean = 30.7\n",
        "ztest_Score, p_value= ztest(samples, value = null_mean, alternative='larger')\n",
        "print('p value la ', p_value)"
      ]
    },
    {
      "cell_type": "markdown",
      "metadata": {
        "id": "PLi9ULRED6xi"
      },
      "source": [
        "Bài 10: Does an average box of cereal contain 368 grams of cereal?  A random sample of 36 boxes had a mean of 372.5 and a standard deviation of 12 grams. Test at the .05 level of significance."
      ]
    },
    {
      "cell_type": "code",
      "execution_count": null,
      "metadata": {
        "id": "VRbx3MZnD6xi"
      },
      "outputs": [],
      "source": [
        "mean = 372.5\n",
        "std = 12\n",
        "N = 1000\n",
        "samples = np.random.normal(mean, std, N)\n",
        "a = samples[:36]\n",
        "null_mean = 368\n",
        "alpha = 0.05\n",
        "ztest_Score, p_value= ztest(samples, value = null_mean, alternative='larger')\n",
        "if(p_value <  alpha):\n",
        "  print(\"Có bằng chứng để bác bỏ giả thuyết H0\")\n",
        "else:\n",
        "  print(\"Chưa có bằng chứng để bác bỏ giả thuyết H0\")"
      ]
    },
    {
      "cell_type": "markdown",
      "metadata": {
        "id": "QH9sBlkHD6xj"
      },
      "source": [
        "Bài 11: You work for the FTC.  A manufacturer of detergent claims that the mean weight of detergent is 3.25 lb.  You take a random sample of 64 containers.  You calculate the sample average to be 3.238 lb. with a standard deviation of .117 lb.  At the .01 level of significance, is the manufacturer correct?\n",
        "\n",
        "Xây dựng giả thuyết:\n",
        "\n",
        "$$H_{0}: \\mu_{1} = 368$$\n",
        "\n",
        "Giả thuyết thay thế:\n",
        "\n",
        "$$H_{a}: \\mu_{1} \\neq 368$$"
      ]
    },
    {
      "cell_type": "code",
      "execution_count": 24,
      "metadata": {
        "id": "KdfffTNbD6xj",
        "colab": {
          "base_uri": "https://localhost:8080/"
        },
        "outputId": "c5e75456-2f49-47fb-e1bc-4f76a84908fb"
      },
      "outputs": [
        {
          "output_type": "stream",
          "name": "stdout",
          "text": [
            "Chưa có bằng chứng để bác bỏ giả thuyết H0\n"
          ]
        }
      ],
      "source": [
        "mean = 3.238\n",
        "std = 0.117\n",
        "N = 1000\n",
        "samples = np.random.normal(mean, std, N)\n",
        "a = samples[:64]\n",
        "null_mean = 3.25\n",
        "alpha = 0.01\n",
        "ztest_Score, p_value= ztest(samples, value = null_mean, alternative='larger')\n",
        "if(p_value <  alpha):\n",
        "  print(\"Có bằng chứng để bác bỏ giả thuyết H0\")\n",
        "else:\n",
        "  print(\"Chưa có bằng chứng để bác bỏ giả thuyết H0\")"
      ]
    },
    {
      "cell_type": "markdown",
      "metadata": {
        "id": "lEy3ddMWD6xk"
      },
      "source": [
        "Bài 12: Is the average capacity of batteries less than 140 ampere-hours?  A random sample of 20 batteries had a mean of 138.47 and a standard deviation of 2.66.  Assume a normal distribution. Test at the .05 level of significance.\n",
        "\n",
        "Xây dựng giả thuyết:\n",
        "\n",
        "$$H_{0}: \\mu_{1} = 140$$\n",
        "\n",
        "Giả thuyết thay thế:\n",
        "\n",
        "$$H_{a}: \\mu_{1} \\neq 140$$"
      ]
    },
    {
      "cell_type": "code",
      "execution_count": 25,
      "metadata": {
        "id": "wZalvcVoD6xk",
        "colab": {
          "base_uri": "https://localhost:8080/"
        },
        "outputId": "0daabaad-5e77-450d-c71b-ed42f34c3b02"
      },
      "outputs": [
        {
          "output_type": "stream",
          "name": "stdout",
          "text": [
            "Chưa có bằng chứng để bác bỏ giả thuyết H0, vậy lượng pin vẫn là 140\n"
          ]
        }
      ],
      "source": [
        "mean = 138.47\n",
        "std = 2.66\n",
        "N = 1000\n",
        "samples = np.random.normal(mean, std, N)\n",
        "a = samples[:20]\n",
        "null_mean = 140\n",
        "alpha = 0.05\n",
        "ztest_Score, p_value= ztest(samples, value = null_mean, alternative='larger')\n",
        "if(p_value <  alpha):\n",
        "  print(\"Có bằng chứng để bác bỏ giả thuyết H0, tức là lượng pin lớn hơn 140\")\n",
        "else:\n",
        "  print(\"Chưa có bằng chứng để bác bỏ giả thuyết H0, vậy lượng pin vẫn là 140\")"
      ]
    },
    {
      "cell_type": "markdown",
      "metadata": {
        "id": "xShmVQiXD6xk"
      },
      "source": [
        "Bài 13: You’re a marketing analyst for Wal-Mart.  Wal-Mart had teddy bears on sale last week.  The weekly sales of bears sold in 10 stores was: 8  11  0   4   7   8   10   5   8   3. At the .05 level of significance, is there evidence that the average bear sales per store is more than 5?\n",
        "\n",
        "Xây dựng giả thuyết:\n",
        "\n",
        "$$H_{0}: \\mu_{1} < 5$$\n",
        "\n",
        "Giả thuyết thay thế:\n",
        "\n",
        "$$H_{a}: \\mu_{1} > 5$$"
      ]
    },
    {
      "cell_type": "code",
      "execution_count": 26,
      "metadata": {
        "id": "l6F3wCUeD6xk",
        "colab": {
          "base_uri": "https://localhost:8080/"
        },
        "outputId": "98cfc186-b2c5-417c-e391-ed4528a85a1b"
      },
      "outputs": [
        {
          "output_type": "stream",
          "name": "stdout",
          "text": [
            "Chưa có bằng chứng để bác bỏ giả thuyết H0\n"
          ]
        }
      ],
      "source": [
        "samples = [8, 11, 0, 4, 7, 8, 10, 5, 8, 3]\n",
        "mean = np.mean(samples)\n",
        "std = np.std(samples)\n",
        "null_mean = 5\n",
        "alpha = 0.05\n",
        "ztest_Score, p_value= ztest(samples, value = null_mean, alternative='larger')\n",
        "if(p_value <  alpha):\n",
        "  print(\"Có bằng chứng để bác bỏ giả thuyết H0\")\n",
        "else:\n",
        "  print(\"Chưa có bằng chứng để bác bỏ giả thuyết H0\")"
      ]
    },
    {
      "cell_type": "code",
      "execution_count": null,
      "metadata": {
        "id": "YtVVVoqrD6xl"
      },
      "outputs": [],
      "source": [
        ""
      ]
    }
  ],
  "metadata": {
    "kernelspec": {
      "display_name": "Python 3",
      "language": "python",
      "name": "python3"
    },
    "language_info": {
      "codemirror_mode": {
        "name": "ipython",
        "version": 3
      },
      "file_extension": ".py",
      "mimetype": "text/x-python",
      "name": "python",
      "nbconvert_exporter": "python",
      "pygments_lexer": "ipython3",
      "version": "3.7.3"
    },
    "colab": {
      "name": "Bbai-tap-kiem-dinh-z-t.ipynb",
      "provenance": [],
      "collapsed_sections": [],
      "include_colab_link": true
    }
  },
  "nbformat": 4,
  "nbformat_minor": 0
}