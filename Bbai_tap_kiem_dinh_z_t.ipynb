{
  "cells": [
    {
      "cell_type": "markdown",
      "metadata": {
        "id": "view-in-github",
        "colab_type": "text"
      },
      "source": [
        "<a href=\"https://colab.research.google.com/github/kinhbanh123/EZPZ/blob/main/Bbai_tap_kiem_dinh_z_t.ipynb\" target=\"_parent\"><img src=\"https://colab.research.google.com/assets/colab-badge.svg\" alt=\"Open In Colab\"/></a>"
      ]
    },
    {
      "cell_type": "code",
      "source": [
        "import numpy as np\n",
        "import pandas as pd\n",
        "import random\n",
        "from scipy import stats as st\n",
        "from statsmodels.stats.weightstats import ztest\n",
        "import scipy.stats as ss\n",
        "import warnings\n",
        "import matplotlib.pyplot as plt\n",
        "import seaborn as sns\n",
        "%matplotlib inline"
      ],
      "metadata": {
        "id": "CfP1Hf2AIE1k",
        "colab": {
          "base_uri": "https://localhost:8080/"
        },
        "outputId": "e4709923-d456-48c6-d7ec-cfd7a695682f"
      },
      "execution_count": 1,
      "outputs": [
        {
          "output_type": "stream",
          "name": "stderr",
          "text": [
            "/usr/local/lib/python3.7/dist-packages/statsmodels/tools/_testing.py:19: FutureWarning: pandas.util.testing is deprecated. Use the functions in the public API at pandas.testing instead.\n",
            "  import pandas.util.testing as tm\n"
          ]
        }
      ]
    },
    {
      "cell_type": "markdown",
      "metadata": {
        "id": "BUXyJNXPD6xV"
      },
      "source": [
        "XÂY DỰNG CHƯƠNG TRÌNH KIỂM ĐỊNH Z (HOẶC T) CHO CÁC BÀI TẬP SAU\n",
        "\n",
        "Gợi ý:\n",
        "\n",
        "- Số liệu được sinh ngẫu nhiên theo phân phối chuẩn\n",
        "- Sử dụng gói phần mềm statsmodels để tiến hành kiểm định\n",
        "- Đối với các bài tập kiểm định giả thuyết thì sinh viên cần phát biểu các giả thuyết (bằng tiếng Việt) $H_{0}$ và $H_{a}$ trước khi lập trình kiểm định"
      ]
    },
    {
      "cell_type": "markdown",
      "metadata": {
        "id": "3nILXfhGD6xZ"
      },
      "source": [
        "Bài 1: You’re a Q/C inspector for Gallo. The sample standard deviation for 2-liter bottles is .05 liters.  A random sample of 100 bottles showed sasmple mean = 1.99 liters.  What is the 90%  confidence interval estimate of the true mean amount in 2-liter bottles? \n",
        "\n",
        "Xây dựng giả thuyết:\n",
        "\n",
        "$$H_{0}: \\mu_{1} = 1.99$$\n",
        "\n",
        "Giả thuyết thay thế:\n",
        "\n",
        "$$H_{a}: \\mu_{1} \\neq 1.99$$"
      ]
    },
    {
      "cell_type": "code",
      "execution_count": 2,
      "metadata": {
        "id": "mLLBQTfvD6xa",
        "colab": {
          "base_uri": "https://localhost:8080/"
        },
        "outputId": "341e6f3d-51bf-430c-87d6-0dd228b4302e"
      },
      "outputs": [
        {
          "output_type": "stream",
          "name": "stdout",
          "text": [
            "[1.9760606  2.05973977 2.01144857 2.0158294  1.97749695 1.94385309\n",
            " 1.97901564 2.03966866 2.09270564 2.03218745 2.09332179 1.99227539\n",
            " 2.04252333 1.99073843 1.88976338 2.01762841 1.9755276  2.04928821\n",
            " 1.98930501 1.95732508 2.05004445 1.94732533 2.02610177 2.01577923\n",
            " 2.03408849 2.0973091  1.98176888 1.90011019 1.99923901 2.02763852\n",
            " 1.99529785 2.00197266 1.96924549 2.02499685 1.96374867 1.95378776\n",
            " 2.00523507 1.94919595 2.03342091 1.86015956 2.04342043 1.92255518\n",
            " 1.98535026 2.05897892 2.02003019 2.01938777 1.9434541  2.00538525\n",
            " 1.96634739 2.03496735 1.95521116 1.98170245 2.07107283 1.94772977\n",
            " 1.94329597 1.96727724 2.01500554 1.97260413 2.08923439 2.05267274\n",
            " 2.0291356  1.85771682 1.97698812 2.01278281 2.01644325 1.97032372\n",
            " 2.033435   1.93805097 2.03075943 1.93456867 1.92584806 1.92236134\n",
            " 2.03446781 1.97111856 2.08595853 2.06232948 1.97109871 1.99848453\n",
            " 1.89952465 2.01616303 1.99528377 2.05086206 1.97399655 2.03522848\n",
            " 2.02138651 1.92112815 1.99035357 2.02294783 1.99204405 2.0867755\n",
            " 1.97015324 1.98991068 1.97693295 1.96726727 2.02379177 2.00734648\n",
            " 1.97060171 1.9251676  1.90702628 2.02953751]\n"
          ]
        },
        {
          "output_type": "execute_result",
          "data": {
            "text/plain": [
              "(1.986629550390104, 2.0034334942554235)"
            ]
          },
          "metadata": {},
          "execution_count": 2
        }
      ],
      "source": [
        "mean = 1.99\n",
        "std = 0.05\n",
        "N = 1000\n",
        "samples = np.random.normal(mean, std, N)\n",
        "a = samples[:100]\n",
        "print(a)\n",
        "st.t.interval(alpha=0.90,\n",
        "              df=len(a)-1,\n",
        "              loc=np.mean(a), \n",
        "              scale=st.sem(a))\n"
      ]
    },
    {
      "cell_type": "markdown",
      "metadata": {
        "id": "JOMvLNmSD6xb"
      },
      "source": [
        "Bài 2: You’re a time study analyst in manufacturing.  You’ve recorded the following task times (min.): 3.6, 4.2, 4.0, 3.5, 3.8, 3.1. What is the 90% confidence interval estimate of the population mean task time? \n",
        "\n",
        "Xây dựng giả thuyết:\n",
        "\n",
        "$$H_{0}: \\mu_{1} = 3.7$$\n",
        "\n",
        "Giả thuyết thay thế:\n",
        "\n",
        "$$H_{a}: \\mu_{1} \\neq 3.7$$"
      ]
    },
    {
      "cell_type": "code",
      "execution_count": 16,
      "metadata": {
        "id": "6H63jpLbD6xb",
        "colab": {
          "base_uri": "https://localhost:8080/"
        },
        "outputId": "d10f7574-8638-4b16-8aed-637f4c85d799"
      },
      "outputs": [
        {
          "output_type": "stream",
          "name": "stdout",
          "text": [
            "3.7000000000000006\n",
            "23.246391910189104\n",
            "2.7412823063034456e-06\n"
          ]
        }
      ],
      "source": [
        "a = [3.6, 4.2, 4.0, 3.5, 3.8, 3.1]\n",
        "mean = np.mean(a)\n",
        "print(mean)\n",
        "std = np.std(a)\n",
        "alpha = 0.1\n",
        "ttest_Score, p_value=ss.ttest_1samp(a, 0)\n",
        "print(ttest_Score)\n",
        "print(p_value)\n",
        "\n"
      ]
    },
    {
      "cell_type": "markdown",
      "metadata": {
        "id": "RtG5gdf-D6xc"
      },
      "source": [
        "Bài 3: Does an average box of cereal contain 368 grams of cereal?  A random sample of 25 boxes had $\\overline{\\rm x}$ = 372.5.  The company has specified $\\sigma$ to be 25 grams.  Test at the .05 level of significance.\n",
        "\n",
        "Xây dựng giả thuyết:\n",
        "\n",
        "$$H_{0}: \\mu_{1} = 368$$\n",
        "\n",
        "Giả thuyết thay thế:\n",
        "\n",
        "$$H_{a}: \\mu_{1} \\neq 368$$"
      ]
    },
    {
      "cell_type": "code",
      "execution_count": 4,
      "metadata": {
        "id": "Uk_x5uBGD6xc",
        "colab": {
          "base_uri": "https://localhost:8080/"
        },
        "outputId": "d57ffdcf-ff09-49c5-9fa1-31b41f2c4b4e"
      },
      "outputs": [
        {
          "output_type": "stream",
          "name": "stdout",
          "text": [
            "Có bằng chứng để bác bỏ giả thuyết H0 tức là box có giá trị khác 368\n"
          ]
        }
      ],
      "source": [
        "mean = 372.5\n",
        "std = 25\n",
        "N = 1000\n",
        "samples = np.random.normal(mean, std, N)\n",
        "a = samples[:25]\n",
        "null_mean = 368\n",
        "alpha = 0.05\n",
        "ztest_Score, p_value= ztest(samples, value = null_mean, alternative='larger')\n",
        "if(p_value <  alpha):\n",
        "  print(\"Có bằng chứng để bác bỏ giả thuyết H0 tức là box có giá trị khác 368\")\n",
        "else:\n",
        "  print(\"Chưa có bằng chứng để bác bỏ giả thuyết H0, tức là vẫn phải chấp nhận box có giá trị = 368\")"
      ]
    },
    {
      "cell_type": "markdown",
      "metadata": {
        "id": "wlHIgNKvD6xd"
      },
      "source": [
        "Bài 4: You’re a Q/C inspector.  You want to find out if a new machine is making electrical cords to customer specification: average breaking strength of 70 lb. with $\\sigma$ = 3.5 lb.  You take a sample of 36 cords & compute a sample mean of 69.7 lb.  At the .05 level of significance, is there evidence that the machine is not meeting the average breaking strength?\n",
        "\n",
        "Xây dựng giả thuyết:\n",
        "\n",
        "$$H_{0}: \\mu_{1} = 70$$\n",
        "\n",
        "Giả thuyết thay thế:\n",
        "\n",
        "$$H_{a}: \\mu_{1} \\neq 70$$"
      ]
    },
    {
      "cell_type": "code",
      "execution_count": 5,
      "metadata": {
        "id": "NW7hzx-pD6xe",
        "colab": {
          "base_uri": "https://localhost:8080/"
        },
        "outputId": "def8840b-f06c-452f-bc04-fa88215585fe"
      },
      "outputs": [
        {
          "output_type": "stream",
          "name": "stdout",
          "text": [
            "Có bằng chứng để bác bỏ giả thuyết H0, tức là lực khác 70\n"
          ]
        }
      ],
      "source": [
        "mean = 70\n",
        "std = 3.5\n",
        "N = 1000\n",
        "samples = np.random.normal(mean, std, N)\n",
        "a = samples[:36]\n",
        "null_mean = 69.7\n",
        "alpha = 0.05\n",
        "ztest_Score, p_value= ztest(samples, value = null_mean, alternative='larger')\n",
        "if(p_value <  alpha):\n",
        "  print(\"Có bằng chứng để bác bỏ giả thuyết H0, tức là lực khác 70\")\n",
        "else:\n",
        "  print(\"Chưa có bằng chứng để bác bỏ giả thuyết H0, tức là phải chấp nhận lực = 70\")"
      ]
    },
    {
      "cell_type": "markdown",
      "metadata": {
        "id": "Nzr_pochD6xe"
      },
      "source": [
        "Bài 5: Does an average box of cereal contain more than 368 grams of cereal?  A random sample of 25 boxes showed $\\overline{\\rm x}$ =  372.5.  The company has specified $\\sigma$ to be 25 grams.  Test at the .05 level of significance.\n",
        "\n",
        "Xây dựng giả thuyết:\n",
        "\n",
        "$$H_{0}: \\mu_{1} = 368$$\n",
        "\n",
        "Giả thuyết thay thế:\n",
        "\n",
        "$$H_{a}: \\mu_{1} \\neq 368$$"
      ]
    },
    {
      "cell_type": "code",
      "execution_count": 6,
      "metadata": {
        "id": "m1L3NkbxD6xf",
        "colab": {
          "base_uri": "https://localhost:8080/"
        },
        "outputId": "550464ba-88d7-44e3-a312-9d89f23b2254"
      },
      "outputs": [
        {
          "output_type": "stream",
          "name": "stdout",
          "text": [
            "Có bằng chứng để bác bỏ giả thuyết H0 tức là box có giá trị khác 368\n"
          ]
        }
      ],
      "source": [
        "mean = 372.5\n",
        "std = 25\n",
        "N = 1000\n",
        "samples = np.random.normal(mean, std, N)\n",
        "a = samples[:25]\n",
        "null_mean = 368\n",
        "alpha = 0.05\n",
        "ztest_Score, p_value= ztest(samples, value = null_mean, alternative='larger')\n",
        "if(p_value <  alpha):\n",
        "  print(\"Có bằng chứng để bác bỏ giả thuyết H0 tức là box có giá trị khác 368\")\n",
        "else:\n",
        "  print(\"Chưa có bằng chứng để bác bỏ giả thuyết H0, tức là vẫn phải chấp nhận box có giá trị = 368\")"
      ]
    },
    {
      "cell_type": "markdown",
      "metadata": {
        "id": "x8dX8928D6xf"
      },
      "source": [
        "Bài 6: You’re an analyst for Ford.  You want to find out if the average miles per gallon of Escorts is at least 32 mpg. Similar models have a standard deviation of 3.8 mpg. You take a sample of 60 Escorts & compute a sample mean of 30.7 mpg. At the .01 level of significance, is there evidence that the miles per gallon is less than 32?\n",
        "\n",
        "Xây dựng giả thuyết:\n",
        "\n",
        "$$H_{0}: \\mu_{1} = 32$$\n",
        "\n",
        "Giả thuyết thay thế:\n",
        "\n",
        "$$H_{a}: \\mu_{1} < 32$$"
      ]
    },
    {
      "cell_type": "code",
      "execution_count": 7,
      "metadata": {
        "id": "4LXW0wNZD6xg",
        "colab": {
          "base_uri": "https://localhost:8080/"
        },
        "outputId": "69a202e4-c231-4ebe-f0bd-fd33af839101"
      },
      "outputs": [
        {
          "output_type": "stream",
          "name": "stdout",
          "text": [
            "Chưa có bằng chứng để bác bỏ giả thuyết H0, tức là sẽ lớn hơn 32mpg\n"
          ]
        }
      ],
      "source": [
        "mean = 30.7\n",
        "std = 3.8\n",
        "N = 1000\n",
        "samples = np.random.normal(mean, std, N)\n",
        "a = samples[:60]\n",
        "null_mean = 32\n",
        "alpha = 0.01\n",
        "ztest_Score, p_value= ztest(samples, value = null_mean, alternative='larger')\n",
        "if(p_value <  alpha):\n",
        "  print(\"Có bằng chứng để bác bỏ giả thuyết H0, tức là nhỏ hơn 32mpg\")\n",
        "else:\n",
        "  print(\"Chưa có bằng chứng để bác bỏ giả thuyết H0, tức là sẽ lớn hơn 32mpg\")"
      ]
    },
    {
      "cell_type": "markdown",
      "metadata": {
        "id": "6vTrYiQID6xg"
      },
      "source": [
        "Bài 7: Does an average box of cereal contain 368 grams of cereal?  A random sample of 25 boxes showed $\\overline{\\rm x}$ = 372.5.  The company has specified $\\sigma$ to be 15 grams.  Find the p-Value.\n",
        "\n",
        "Xây dựng giả thuyết:\n",
        "\n",
        "$$H_{0}: \\mu_{1} = 368$$\n",
        "\n",
        "Giả thuyết thay thế:\n",
        "\n",
        "$$H_{a}: \\mu_{1} \\neq 368$$"
      ]
    },
    {
      "cell_type": "code",
      "execution_count": 8,
      "metadata": {
        "id": "iEnHf9LFD6xg",
        "colab": {
          "base_uri": "https://localhost:8080/"
        },
        "outputId": "5abb09d6-16bc-4db9-9ee7-7fbc00e64289"
      },
      "outputs": [
        {
          "output_type": "stream",
          "name": "stdout",
          "text": [
            "p value la 4.407157568922209e-13\n"
          ]
        }
      ],
      "source": [
        "mean = 372.5\n",
        "std = 15\n",
        "N = 1000\n",
        "samples = np.random.normal(mean, std, N)\n",
        "a = samples[:25]\n",
        "null_mean = 368\n",
        "ztest_Score, p_value= ztest(samples, value = null_mean, alternative='larger')\n",
        "print('p value la',p_value)"
      ]
    },
    {
      "cell_type": "markdown",
      "metadata": {
        "id": "-K16ykkhD6xh"
      },
      "source": [
        "Bài 8: Does an average box of cereal contain more than 368 grams of cereal?  A random sample of 25 boxes showed $\\overline{\\rm x}$ = 372.5.  The company has specified $\\sigma$ to be 15 grams.  Find the p-Value.\n",
        "\n",
        "Xây dựng giả thuyết:\n",
        "\n",
        "$$H_{0}: \\mu_{1} = 368$$\n",
        "\n",
        "Giả thuyết thay thế:\n",
        "\n",
        "$$H_{a}: \\mu_{1} \\neq 368$$"
      ]
    },
    {
      "cell_type": "code",
      "execution_count": 9,
      "metadata": {
        "id": "PMUn9RnTD6xh",
        "colab": {
          "base_uri": "https://localhost:8080/"
        },
        "outputId": "91af6b11-c93e-4a15-d5d6-fe5a7359caad"
      },
      "outputs": [
        {
          "output_type": "stream",
          "name": "stdout",
          "text": [
            "p value la 6.136955195489281e-28\n"
          ]
        }
      ],
      "source": [
        "mean = 372.5\n",
        "std = 15\n",
        "N = 1000\n",
        "samples = np.random.normal(mean, std, N)\n",
        "a = samples[:25]\n",
        "null_mean = 368\n",
        "ztest_Score, p_value= ztest(samples, value = null_mean, alternative='larger')\n",
        "print('p value la',p_value)"
      ]
    },
    {
      "cell_type": "markdown",
      "metadata": {
        "id": "NAlBq929D6xh"
      },
      "source": [
        "Bài 9: You’re an analyst for Ford.  You want to find out if the average miles per gallon of Escorts is less than 32 mpg.   Similar models have a standard deviation of 3.8 mpg.  You take a sample of 60 Escorts & compute a sample mean of 30.7 mpg.  What is the value of the observed level of significance (p-Value)?\n",
        "\n",
        "Xây dựng giả thuyết:\n",
        "\n",
        "$$H_{0}: \\mu_{1} = 32$$\n",
        "\n",
        "Giả thuyết thay thế:\n",
        "\n",
        "$$H_{a}: \\mu_{1} < 32$$"
      ]
    },
    {
      "cell_type": "code",
      "execution_count": 10,
      "metadata": {
        "id": "10LIS_6wD6xi",
        "colab": {
          "base_uri": "https://localhost:8080/"
        },
        "outputId": "057e4b95-5b8d-4dd4-f3aa-179ee440321b"
      },
      "outputs": [
        {
          "output_type": "stream",
          "name": "stdout",
          "text": [
            "p value la  3.049148611370298e-16\n"
          ]
        }
      ],
      "source": [
        "mean = 32\n",
        "std = 3.8\n",
        "N = 1000\n",
        "samples = np.random.normal(mean, std, N)\n",
        "a = samples[:60]\n",
        "null_mean = 30.7\n",
        "ztest_Score, p_value= ztest(samples, value = null_mean, alternative='larger')\n",
        "print('p value la ', p_value)"
      ]
    },
    {
      "cell_type": "markdown",
      "metadata": {
        "id": "PLi9ULRED6xi"
      },
      "source": [
        "Bài 10: Does an average box of cereal contain 368 grams of cereal?  A random sample of 36 boxes had a mean of 372.5 and a standard deviation of 12 grams. Test at the .05 level of significance."
      ]
    },
    {
      "cell_type": "code",
      "execution_count": 11,
      "metadata": {
        "id": "VRbx3MZnD6xi",
        "colab": {
          "base_uri": "https://localhost:8080/"
        },
        "outputId": "f3137361-034d-44c5-a0c3-eb5601a30404"
      },
      "outputs": [
        {
          "output_type": "stream",
          "name": "stdout",
          "text": [
            "Có bằng chứng để bác bỏ giả thuyết H0\n"
          ]
        }
      ],
      "source": [
        "mean = 372.5\n",
        "std = 12\n",
        "N = 1000\n",
        "samples = np.random.normal(mean, std, N)\n",
        "a = samples[:36]\n",
        "null_mean = 368\n",
        "alpha = 0.05\n",
        "ztest_Score, p_value= ztest(samples, value = null_mean, alternative='larger')\n",
        "if(p_value <  alpha):\n",
        "  print(\"Có bằng chứng để bác bỏ giả thuyết H0\")\n",
        "else:\n",
        "  print(\"Chưa có bằng chứng để bác bỏ giả thuyết H0\")"
      ]
    },
    {
      "cell_type": "markdown",
      "metadata": {
        "id": "QH9sBlkHD6xj"
      },
      "source": [
        "Bài 11: You work for the FTC.  A manufacturer of detergent claims that the mean weight of detergent is 3.25 lb.  You take a random sample of 64 containers.  You calculate the sample average to be 3.238 lb. with a standard deviation of .117 lb.  At the .01 level of significance, is the manufacturer correct?\n",
        "\n",
        "Xây dựng giả thuyết:\n",
        "\n",
        "$$H_{0}: \\mu_{1} = 368$$\n",
        "\n",
        "Giả thuyết thay thế:\n",
        "\n",
        "$$H_{a}: \\mu_{1} \\neq 368$$"
      ]
    },
    {
      "cell_type": "code",
      "execution_count": 12,
      "metadata": {
        "id": "KdfffTNbD6xj",
        "colab": {
          "base_uri": "https://localhost:8080/"
        },
        "outputId": "e3752362-eecb-4fd7-84bb-99fb24990880"
      },
      "outputs": [
        {
          "output_type": "stream",
          "name": "stdout",
          "text": [
            "Chưa có bằng chứng để bác bỏ giả thuyết H0\n"
          ]
        }
      ],
      "source": [
        "mean = 3.238\n",
        "std = 0.117\n",
        "N = 1000\n",
        "samples = np.random.normal(mean, std, N)\n",
        "a = samples[:64]\n",
        "null_mean = 3.25\n",
        "alpha = 0.01\n",
        "ztest_Score, p_value= ztest(samples, value = null_mean, alternative='larger')\n",
        "if(p_value <  alpha):\n",
        "  print(\"Có bằng chứng để bác bỏ giả thuyết H0\")\n",
        "else:\n",
        "  print(\"Chưa có bằng chứng để bác bỏ giả thuyết H0\")"
      ]
    },
    {
      "cell_type": "markdown",
      "metadata": {
        "id": "lEy3ddMWD6xk"
      },
      "source": [
        "Bài 12: Is the average capacity of batteries less than 140 ampere-hours?  A random sample of 20 batteries had a mean of 138.47 and a standard deviation of 2.66.  Assume a normal distribution. Test at the .05 level of significance.\n",
        "\n",
        "Xây dựng giả thuyết:\n",
        "\n",
        "$$H_{0}: \\mu_{1} = 140$$\n",
        "\n",
        "Giả thuyết thay thế:\n",
        "\n",
        "$$H_{a}: \\mu_{1} \\neq 140$$"
      ]
    },
    {
      "cell_type": "code",
      "execution_count": 13,
      "metadata": {
        "id": "wZalvcVoD6xk",
        "colab": {
          "base_uri": "https://localhost:8080/"
        },
        "outputId": "25af6d02-c13e-417c-941e-49f8bdfbbf68"
      },
      "outputs": [
        {
          "output_type": "stream",
          "name": "stdout",
          "text": [
            "Chưa có bằng chứng để bác bỏ giả thuyết H0, vậy lượng pin vẫn là 140\n"
          ]
        }
      ],
      "source": [
        "mean = 138.47\n",
        "std = 2.66\n",
        "N = 1000\n",
        "samples = np.random.normal(mean, std, N)\n",
        "a = samples[:20]\n",
        "null_mean = 140\n",
        "alpha = 0.05\n",
        "ztest_Score, p_value= ztest(samples, value = null_mean, alternative='larger')\n",
        "if(p_value <  alpha):\n",
        "  print(\"Có bằng chứng để bác bỏ giả thuyết H0, tức là lượng pin lớn hơn 140\")\n",
        "else:\n",
        "  print(\"Chưa có bằng chứng để bác bỏ giả thuyết H0, vậy lượng pin vẫn là 140\")"
      ]
    },
    {
      "cell_type": "markdown",
      "metadata": {
        "id": "xShmVQiXD6xk"
      },
      "source": [
        "Bài 13: You’re a marketing analyst for Wal-Mart.  Wal-Mart had teddy bears on sale last week.  The weekly sales of bears sold in 10 stores was: 8  11  0   4   7   8   10   5   8   3. At the .05 level of significance, is there evidence that the average bear sales per store is more than 5?\n",
        "\n",
        "Xây dựng giả thuyết:\n",
        "\n",
        "$$H_{0}: \\mu_{1} < 5$$\n",
        "\n",
        "Giả thuyết thay thế:\n",
        "\n",
        "$$H_{a}: \\mu_{1} > 5$$"
      ]
    },
    {
      "cell_type": "code",
      "execution_count": 14,
      "metadata": {
        "id": "l6F3wCUeD6xk",
        "colab": {
          "base_uri": "https://localhost:8080/"
        },
        "outputId": "85109d05-8998-4996-9afe-8b7b6652e4e4"
      },
      "outputs": [
        {
          "output_type": "stream",
          "name": "stdout",
          "text": [
            "Chưa có bằng chứng để bác bỏ giả thuyết H0\n"
          ]
        }
      ],
      "source": [
        "samples = [8, 11, 0, 4, 7, 8, 10, 5, 8, 3]\n",
        "mean = np.mean(samples)\n",
        "std = np.std(samples)\n",
        "null_mean = 5\n",
        "alpha = 0.05\n",
        "ztest_Score, p_value= ztest(samples, value = null_mean, alternative='larger')\n",
        "if(p_value <  alpha):\n",
        "  print(\"Có bằng chứng để bác bỏ giả thuyết H0\")\n",
        "else:\n",
        "  print(\"Chưa có bằng chứng để bác bỏ giả thuyết H0\")"
      ]
    },
    {
      "cell_type": "code",
      "execution_count": 14,
      "metadata": {
        "id": "YtVVVoqrD6xl"
      },
      "outputs": [],
      "source": [
        ""
      ]
    }
  ],
  "metadata": {
    "kernelspec": {
      "display_name": "Python 3",
      "language": "python",
      "name": "python3"
    },
    "language_info": {
      "codemirror_mode": {
        "name": "ipython",
        "version": 3
      },
      "file_extension": ".py",
      "mimetype": "text/x-python",
      "name": "python",
      "nbconvert_exporter": "python",
      "pygments_lexer": "ipython3",
      "version": "3.7.3"
    },
    "colab": {
      "name": "Bbai-tap-kiem-dinh-z-t.ipynb",
      "provenance": [],
      "collapsed_sections": [],
      "include_colab_link": true
    }
  },
  "nbformat": 4,
  "nbformat_minor": 0
}