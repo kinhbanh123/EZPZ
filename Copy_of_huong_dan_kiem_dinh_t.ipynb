{
  "cells": [
    {
      "cell_type": "markdown",
      "metadata": {
        "id": "view-in-github",
        "colab_type": "text"
      },
      "source": [
        "<a href=\"https://colab.research.google.com/github/kinhbanh123/EZPZ/blob/main/Copy_of_huong_dan_kiem_dinh_t.ipynb\" target=\"_parent\"><img src=\"https://colab.research.google.com/assets/colab-badge.svg\" alt=\"Open In Colab\"/></a>"
      ]
    },
    {
      "cell_type": "markdown",
      "metadata": {
        "id": "_XsXFQ75Gvi_"
      },
      "source": [
        "HƯỚNG DẪN SUY DIỄN THỐNG KÊ BẰNG GÓI STATS CỦA THƯ VIỆN SCIPY"
      ]
    },
    {
      "cell_type": "markdown",
      "metadata": {
        "id": "gXd6SDuJGvjC"
      },
      "source": [
        "1. Các thư viện cần thiết"
      ]
    },
    {
      "cell_type": "code",
      "source": [
        "pip install --upgrade scipy"
      ],
      "metadata": {
        "colab": {
          "base_uri": "https://localhost:8080/"
        },
        "id": "izBHPa9k_oSy",
        "outputId": "8427009f-aeae-4ea4-dc13-38526934b091"
      },
      "execution_count": 1,
      "outputs": [
        {
          "output_type": "stream",
          "name": "stdout",
          "text": [
            "Requirement already satisfied: scipy in /usr/local/lib/python3.7/dist-packages (1.7.3)\n",
            "Requirement already satisfied: numpy<1.23.0,>=1.16.5 in /usr/local/lib/python3.7/dist-packages (from scipy) (1.21.5)\n"
          ]
        }
      ]
    },
    {
      "cell_type": "code",
      "execution_count": 2,
      "metadata": {
        "id": "wK1YOij2GvjC",
        "colab": {
          "base_uri": "https://localhost:8080/"
        },
        "outputId": "afd9c31b-7a1d-42bb-9a8d-613f863199e1"
      },
      "outputs": [
        {
          "output_type": "stream",
          "name": "stderr",
          "text": [
            "/usr/local/lib/python3.7/dist-packages/statsmodels/tools/_testing.py:19: FutureWarning: pandas.util.testing is deprecated. Use the functions in the public API at pandas.testing instead.\n",
            "  import pandas.util.testing as tm\n"
          ]
        }
      ],
      "source": [
        "import numpy as np\n",
        "import pandas as pd\n",
        "import random\n",
        "from scipy import stats\n",
        "from statsmodels.stats.weightstats import ztest\n",
        "import warnings\n",
        "import matplotlib.pyplot as plt\n",
        "import seaborn as sns\n",
        "%matplotlib inline"
      ]
    },
    {
      "cell_type": "markdown",
      "metadata": {
        "id": "AO4cwFPdGvjF"
      },
      "source": [
        "1. Một số lưu ý khi kiểm định giả thuyết trong thống kê suy diễn\n",
        "\n",
        "(1) Cỡ mẫu thường phải đủ lớn ($n \\geq 30$) để có ý nghĩa thống kê\n",
        "\n",
        "(2) Các mẫu quan sát được (sample observations) phải được lựa chọn ngẫu nhiên từ quần thể\n",
        "\n",
        "(3) Các đại lượng như trung bình mẫu (sample mean), độ lệch chuẩn của mẫu (standard deviation), phương sai mẫu (sample variance) được tính từ tập mẫu quan sát được.\n",
        "\n",
        "(4) Giả định rằng quần thể được nghiên cứu lấy mẫu xấp xỉ với phân phối chuẩn."
      ]
    },
    {
      "cell_type": "markdown",
      "metadata": {
        "id": "mIxtUTcfGvjF"
      },
      "source": [
        "5. Các bước thực hiện kiểm định giả thuyết (sử dụng kiểm định z)\n",
        "\n",
        "Bước 1: Thực hiện các phép đo, hay thu thập dữ liệu quan sát\n",
        "\n",
        "Bước 2: Phát biểu giả thuyết $H_{0}$ và giả thuyết thay thế $H_{a}$\n",
        "\n",
        "Bước 3: Lấy mẫu và tính toán các đại lượng thống kê của mẫu\n",
        "\n",
        "Bước 4: Thực hiện kiểm định T (t-test)\n",
        "\n",
        "Bước 5: Kết luận dựa vào kết quả kiểm định"
      ]
    },
    {
      "cell_type": "markdown",
      "metadata": {
        "id": "Z0cCoeCpGvjJ"
      },
      "source": [
        "2. Xây dựng một kiểm định t cụ thể với số liệu được sinh ngẫu nhiên theo phân phối chuẩn\n",
        "\n",
        "Bài toán: Trọng lượng các bao gạo theo tiêu chuẩn là 50 kg. Có nhiều ý kiến khách hàng phản\n",
        "ảnh là trọng lượng gạo bị thiếu. Nhóm điều tra lấy ngẫu nhiên 25 bao cân thử và thu\n",
        "được kết quả sau: \n",
        "\n",
        "Trọng lượng 48-48,5 48,5- 49 49 – 49,5 49,5 - 50 50-50,5\n",
        "\n",
        "Số bao------------ 3 ----------5----------- 10------------ 5------------ 2 \n",
        "\n",
        "Xây dựng giả thuyết\n",
        "\n",
        "$$H_{0}: \\mu = 50$$\n",
        "\n",
        "Giả thuyết thay thế: \n",
        "\n",
        "$$H_{a}: \\mu < 50 $$\n",
        "\n",
        "với:\n",
        "\n",
        "- Hệ số sig = 0.05\n",
        "- Chỉ số T tương ứng với hệ số sig ở trên là 1.645\n",
        "\n",
        "Công thức:\n",
        "$$T = \\frac{(\\overline{\\rm X} - \\mu)}{( s/ \\sqrt{n})}$$\n",
        "\n",
        "Áp dụng với các giá trị nêu trên:\n",
        "\n",
        "- $\\overline{\\rm X} = 49,21$\n",
        "- $\\mu = 50$\n",
        "- $s = 0,558$\n",
        "- $\\alpha = 0.05$\n",
        "- $n =25$\n",
        "\n",
        "$$T = \\frac{(49,2 - 50)}{( 0,558/ \\sqrt{25})} = -7.097$$\n",
        "\n",
        "Giá trị t = -7.097 < 1.645 nên có bằng chứng để bác bỏ giả thuyết $H_{0}$\n"
      ]
    },
    {
      "cell_type": "markdown",
      "metadata": {
        "id": "9icfYG3AGvjK"
      },
      "source": [
        "Lập trình Python cho bài toán nêu trên"
      ]
    },
    {
      "cell_type": "code",
      "execution_count": 3,
      "metadata": {
        "id": "SrpHrQM3GvjK",
        "outputId": "05495028-0870-49ad-b7e1-c126b3596c2f",
        "colab": {
          "base_uri": "https://localhost:8080/"
        }
      },
      "outputs": [
        {
          "output_type": "stream",
          "name": "stdout",
          "text": [
            "[48.77854604 47.97633512 48.81726848 48.23829618 49.57067113 49.02364788\n",
            " 49.63148249 49.62060515 50.09058262 49.66953398 49.428522   49.20926465\n",
            " 49.41907536 48.88626091 49.84237501 48.77314323 48.25433744 48.88085761\n",
            " 50.24825612 49.07946634 48.93863716 48.73559904 49.70550141 49.5514886\n",
            " 50.07604104]\n"
          ]
        }
      ],
      "source": [
        "#Sinh ngẫu nhiên một mẫu 25 phần tử có trung bình mẫu là 49.2, s = 0.558\n",
        "samples = np.random.normal(49.2, 0.558, 25)\n",
        "print(samples[:25])"
      ]
    },
    {
      "cell_type": "code",
      "execution_count": 4,
      "metadata": {
        "id": "FoNYXYz5GvjK"
      },
      "outputs": [],
      "source": [
        "#Xác định các thông số\n",
        "null_mean = 50\n",
        "sig = 0.05"
      ]
    },
    {
      "cell_type": "code",
      "execution_count": 5,
      "metadata": {
        "id": "W4tBljZPGvjK",
        "outputId": "8fb5097f-ba18-49c9-d76d-92e2b06e6065",
        "colab": {
          "base_uri": "https://localhost:8080/"
        }
      },
      "outputs": [
        {
          "output_type": "stream",
          "name": "stdout",
          "text": [
            "Có bằng chứng để bác bỏ giả thuyết H0\n"
          ]
        }
      ],
      "source": [
        "t_statistic, p_value = stats.ttest_1samp(samples,null_mean)\n",
        "if(p_value <  sig):\n",
        "  print(\"Có bằng chứng để bác bỏ giả thuyết H0\")\n",
        "else:\n",
        "  print(\"Chưa có bằng chứng để bác bỏ giả thuyết H0\")"
      ]
    },
    {
      "cell_type": "markdown",
      "source": [
        "Công thức:\n",
        "$$T = \\frac{(\\overline{\\rm X1} - (\\overline{\\rm X2})}{\\sqrt{S1^2/n1 +S2^2/n2}}$$"
      ],
      "metadata": {
        "id": "25AQBoleV6M2"
      }
    },
    {
      "cell_type": "markdown",
      "metadata": {
        "id": "7NDiT4opGvjL"
      },
      "source": [
        "Kiểm định giả thuyết 2-đuôi\n",
        "\n",
        "Một cách tổng quát, giả sử chúng ta có 2 quần thể độc lập và tuân theo phân phối chuẩn. Lấy ra 2 mẫu ngẫu nhiên tử 2 quần thể này.\n",
        "\n",
        "Xây dựng giả thuyết:\n",
        "\n",
        "$$H_{0}: \\mu_{1} = \\mu_{2}$$\n",
        "\n",
        "Giả thuyết thay thế:\n",
        "\n",
        "$$H_{a}: \\mu_{1} \\neq \\mu_{2}$$\n",
        "\n",
        "Thực hiện kiểm định t và so sánh với giá trị $t_{\\frac{\\alpha}{2}}$ để đi đến kết luận cuối cùng."
      ]
    },
    {
      "cell_type": "markdown",
      "source": [
        "Điều tra thu nhập ($) trong một tháng của công nhân ở hai nhà máy sản xuất thiết bị\n",
        "điện tử A và B ta thu được số liệu sau:\n",
        "\n",
        "Nhà máy $A$: $91,5; 94,18; 92,18; 95,39; 91,79; 89,07; 94,72; 89,21.$\n",
        "\n",
        "Nhà máy $B$: $89,19; 90,95; 90,46; 93,21; 97,19; 97,04; 91,07; 92,75.$\n",
        "\n",
        "Với mức ý nghĩa 5% có thể cho rằng thu nhập trung bình của công nhân trong hai\n",
        "nhà máy trên là như nhau hay không, biết rằng thu nhập trong hai nhà máy có phân\n",
        "phối chuẩn?\n",
        "\n",
        "Xây dựng giả thuyết:\n",
        "\n",
        "$$H_{0}: \\mu_{1} = \\mu_{2}$$\n",
        "\n",
        "Giả thuyết thay thế:\n",
        "\n",
        "$$H_{a}: \\mu_{1} \\neq \\mu_{2}$$\n",
        "\n",
        "$\\overline{\\rm X} = 92.255$\n",
        "\n",
        "$\\overline{\\rm X2} = 92,733$\n",
        "\n",
        "$a = 0.05$\n",
        "\n",
        "$S1 = 4,998 $\n",
        "\n",
        "$S2 = 7,77 $\n",
        "\n",
        "$n1 = 8$\n",
        "\n",
        "$n2 = 8$\n",
        "\n",
        "$$T = \\frac{({\\rm 92, 255)} - ({92, 733})}{\\sqrt{4.998^2/8 +7.77^2/8}} = -0.353$$\n",
        "Vậy không có bằng chứng thu nhập trung bình của công nhân là khác nhau"
      ],
      "metadata": {
        "id": "xy846jgTZqwS"
      }
    },
    {
      "cell_type": "code",
      "execution_count": 6,
      "metadata": {
        "id": "b4kOvuVsGvjL"
      },
      "outputs": [],
      "source": [
        "sample_A = np.random.normal(loc = 92.255, scale = 4.998, size = 8)\n",
        "sample_B = np.random.normal(loc = 92.733, scale = 7.77, size = 8)"
      ]
    },
    {
      "cell_type": "code",
      "source": [
        "sig = 0.05"
      ],
      "metadata": {
        "id": "VPr6Qs3xcMtr"
      },
      "execution_count": 7,
      "outputs": []
    },
    {
      "cell_type": "code",
      "source": [
        "t_statistic, p_value = stats.ttest_ind(sample_A, sample_B,alternative='two-sided', trim=0)\n",
        "if p_value < sig:\n",
        "    print(\"Có bằng chứng để bác bỏ giả thuyết H0, vậy Thu nhập trung bình của công nhân trong hai nhà máy khác nhau là khác nhau\")\n",
        "else:\n",
        "    print(\"Chưa có bằng chứng để bác bỏ giả thuyết H0\")"
      ],
      "metadata": {
        "colab": {
          "base_uri": "https://localhost:8080/"
        },
        "id": "LZznZRogcQKs",
        "outputId": "ace98855-13d1-46c9-f9bb-42f5277a2b88"
      },
      "execution_count": 9,
      "outputs": [
        {
          "output_type": "stream",
          "name": "stdout",
          "text": [
            "Chưa có bằng chứng để bác bỏ giả thuyết H0\n"
          ]
        }
      ]
    }
  ],
  "metadata": {
    "kernelspec": {
      "display_name": "Python 3",
      "language": "python",
      "name": "python3"
    },
    "language_info": {
      "codemirror_mode": {
        "name": "ipython",
        "version": 3
      },
      "file_extension": ".py",
      "mimetype": "text/x-python",
      "name": "python",
      "nbconvert_exporter": "python",
      "pygments_lexer": "ipython3",
      "version": "3.7.3"
    },
    "colab": {
      "name": "Copy of huong-dan-kiem-dinh-t.ipynb",
      "provenance": [],
      "collapsed_sections": [],
      "include_colab_link": true
    }
  },
  "nbformat": 4,
  "nbformat_minor": 0
}