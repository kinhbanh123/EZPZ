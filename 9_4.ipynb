{
  "cells": [
    {
      "cell_type": "markdown",
      "metadata": {
        "id": "view-in-github",
        "colab_type": "text"
      },
      "source": [
        "<a href=\"https://colab.research.google.com/github/kinhbanh123/EZPZ/blob/main/9_4.ipynb\" target=\"_parent\"><img src=\"https://colab.research.google.com/assets/colab-badge.svg\" alt=\"Open In Colab\"/></a>"
      ]
    },
    {
      "cell_type": "code",
      "source": [
        "import numpy as np"
      ],
      "metadata": {
        "id": "VgjB7bzP9HEx"
      },
      "execution_count": null,
      "outputs": []
    },
    {
      "cell_type": "markdown",
      "metadata": {
        "id": "3f406KN39DyB"
      },
      "source": [
        "Sử dụng thư viện Numpy\n",
        "\n",
        "1. Sinh mẫu ngẫu nhiên bằng hàm arange trong khoảng [-15, 27] với khoảng cách là 0.7 và in kết quả ra màn hình"
      ]
    },
    {
      "cell_type": "code",
      "execution_count": null,
      "metadata": {
        "id": "XWrxF9259DyE",
        "colab": {
          "base_uri": "https://localhost:8080/"
        },
        "outputId": "bc751b4f-3dfa-4028-cecd-2d4fe8d46d44"
      },
      "outputs": [
        {
          "output_type": "stream",
          "name": "stdout",
          "text": [
            "[-15.  -14.3 -13.6 -12.9 -12.2 -11.5 -10.8 -10.1  -9.4  -8.7  -8.   -7.3\n",
            "  -6.6  -5.9  -5.2  -4.5  -3.8  -3.1  -2.4  -1.7  -1.   -0.3   0.4   1.1\n",
            "   1.8   2.5   3.2   3.9   4.6   5.3   6.    6.7   7.4   8.1   8.8   9.5\n",
            "  10.2  10.9  11.6  12.3  13.   13.7  14.4  15.1  15.8  16.5  17.2  17.9\n",
            "  18.6  19.3  20.   20.7  21.4  22.1  22.8  23.5  24.2  24.9  25.6  26.3\n",
            "  27. ]\n"
          ]
        }
      ],
      "source": [
        "s = np.arange(-15,27,0.7)\n",
        "print(s)"
      ]
    },
    {
      "cell_type": "markdown",
      "metadata": {
        "id": "j4pe3vzw9DyF"
      },
      "source": [
        "2. Sinh mẫu ngẫu nhiên theo phân phối chuẩn với mean = 2.7 std = 1.2 và size = 40\n",
        "In kết quả ra màn hình"
      ]
    },
    {
      "cell_type": "code",
      "execution_count": null,
      "metadata": {
        "id": "a1V800_V9DyG",
        "colab": {
          "base_uri": "https://localhost:8080/"
        },
        "outputId": "9ee42ff8-82aa-4b25-e06f-cfe6f0a8c504"
      },
      "outputs": [
        {
          "output_type": "execute_result",
          "data": {
            "text/plain": [
              "array([ 1.59916488,  2.76009067,  1.79060022,  2.21802651,  1.01117668,\n",
              "        1.84124808,  4.25223805,  2.33761176,  2.08903815,  4.19240471,\n",
              "        2.76720708,  1.14037825,  1.75351473,  4.51102249,  2.51992187,\n",
              "        1.79526126,  4.21156789,  4.07908014,  2.62922738,  2.25004012,\n",
              "        3.54202479,  1.06792054,  3.29192047,  1.52640055,  2.60606915,\n",
              "        2.27357582,  3.84881477,  3.75535706,  3.79555364,  1.5815852 ,\n",
              "        4.21247579,  1.03369728,  3.87994794,  0.33207118,  2.15203279,\n",
              "        4.45263737,  3.60455724,  3.12654322,  4.51768146,  1.7391069 ,\n",
              "        3.49049977,  5.06747099,  3.08128401,  2.80128726,  2.31512913,\n",
              "        4.55768659,  2.68083055,  1.16379811,  1.82227745,  1.7206724 ,\n",
              "        3.83809504,  1.38008891,  2.02555802,  1.97550035,  1.81989318,\n",
              "        2.03116324,  1.22262754,  1.93417542,  3.00863448,  2.4643254 ,\n",
              "        2.88525992,  4.45183069,  2.47718315,  2.31865491,  3.367057  ,\n",
              "       -0.49694855,  1.21531817,  2.28049231,  0.37112294,  5.72055865,\n",
              "        3.57769083,  3.14432804,  3.41030622,  1.60759915,  3.68992856,\n",
              "        2.3985146 ,  2.81402844,  1.09068574,  1.95671642,  1.81602365,\n",
              "        2.07517663,  2.48283207,  1.63789736,  3.63189838,  1.76544829,\n",
              "        4.28133103,  2.27299691, -0.56063393,  5.12043112,  1.43566994,\n",
              "        1.53969385,  2.90568231,  3.89770893,  2.92835606,  6.22389218,\n",
              "        3.32293472,  2.71814596,  5.92070162,  2.40280607,  2.68714036])"
            ]
          },
          "metadata": {},
          "execution_count": 9
        }
      ],
      "source": [
        "from scipy import stats\n",
        "\n",
        "#Sinh ngẫu nhiên mẫu theo phân phối chuẩn với mean = 5.5 std = 2.3 và size = 100\n",
        "mean = 2.7\n",
        "std = 1.2\n",
        "N = 100\n",
        "samples = np.random.normal(mean, std, N)\n",
        "samples"
      ]
    },
    {
      "cell_type": "markdown",
      "metadata": {
        "id": "6WYCTTlI9DyG"
      },
      "source": [
        "3. Sinh mẫu ngẫu nhiên từ vector ['Viet Nam', 'Britain', 'France', 'Russia', 'Singapore'] \n",
        "\n",
        "với kích thước là 17 theo phân phối chuẩn"
      ]
    },
    {
      "cell_type": "code",
      "execution_count": null,
      "metadata": {
        "id": "I3SMhGnQ9DyH",
        "colab": {
          "base_uri": "https://localhost:8080/"
        },
        "outputId": "46bad5b3-75d5-4480-de3d-1ff3ce53b488"
      },
      "outputs": [
        {
          "output_type": "stream",
          "name": "stdout",
          "text": [
            "['Singapore' 'Singapore' 'Russia' 'France' 'France' 'Russia' 'Russia'\n",
            " 'Viet Nam' 'France' 'France' 'Russia' 'Russia' 'Viet Nam' 'Viet Nam'\n",
            " 'Singapore' 'Britain' 'Britain']\n"
          ]
        }
      ],
      "source": [
        "sample = np.random.choice( ['Viet Nam', 'Britain', 'France', 'Russia', 'Singapore'], 17)\n",
        "print(sample)"
      ]
    },
    {
      "cell_type": "markdown",
      "metadata": {
        "id": "fvJGI5-p9DyH"
      },
      "source": [
        "4. Sinh mẫu ngẫu nhiên ở câu 3 nhưng không theo phân phối chuẩn mà theo 1 vector đặc tả giá trị xác suất do bạn chọn"
      ]
    },
    {
      "cell_type": "code",
      "execution_count": null,
      "metadata": {
        "id": "wjdovE1n9DyH",
        "colab": {
          "base_uri": "https://localhost:8080/"
        },
        "outputId": "18d7ff14-53fc-422a-e3f6-231fe358992e"
      },
      "outputs": [
        {
          "output_type": "stream",
          "name": "stdout",
          "text": [
            "['Singapore' 'Britain' 'Singapore' 'Singapore' 'Russia']\n"
          ]
        }
      ],
      "source": [
        "sample = np.random.choice(['Viet Nam', 'Britain', 'France', 'Russia', 'Singapore'], 5, p = [0.1, 0.2, 0.1, 0.3,0.3])\n",
        "print(sample)"
      ]
    },
    {
      "cell_type": "markdown",
      "metadata": {
        "id": "XJEjthsr9DyI"
      },
      "source": [
        "Sử dụng thư việc scipy.stats để sinh mẫu ngẫu nhiên\n",
        "\n",
        "1. Sinh mẫu ngẫu nhiên theo phân phối chuẩn với mean = 12.7, std = 2.6 và size = 30. In kết quả ra màn hình"
      ]
    },
    {
      "cell_type": "code",
      "execution_count": null,
      "metadata": {
        "id": "HlMqddPU9DyI",
        "colab": {
          "base_uri": "https://localhost:8080/"
        },
        "outputId": "70dbce46-9947-4e86-b118-9377d108e1c6"
      },
      "outputs": [
        {
          "output_type": "stream",
          "name": "stdout",
          "text": [
            "[18.08338606 14.70629859 17.38284726 14.1634878   7.02975324 12.20322266\n",
            " 14.30017795 12.2658998  15.50040545 14.90672193 15.29892572 11.30368767\n",
            " 14.13534972 12.46401848 13.74647984 11.47508931 13.68627599 12.87045316\n",
            " 13.73750369 10.49942372 14.41982455 12.80929067  8.68327208 12.54590619\n",
            "  9.44193145  8.31552132 14.86460799 13.8517913  15.87392728 13.54715273]\n"
          ]
        }
      ],
      "source": [
        "from scipy import stats\n",
        "sample = stats.norm.rvs(loc = 12.7, scale = 2.6, size = 30)\n",
        "print(sample)"
      ]
    },
    {
      "cell_type": "markdown",
      "metadata": {
        "id": "7kS_eKn-9DyJ"
      },
      "source": [
        "2. Hãy sinh một mẫu ngẫu nhiên theo phân phối Poisson"
      ]
    },
    {
      "cell_type": "code",
      "execution_count": null,
      "metadata": {
        "id": "uMugApct9DyJ",
        "colab": {
          "base_uri": "https://localhost:8080/"
        },
        "outputId": "06fffe7a-03f8-445f-e1a3-6d93dbc9d5e6"
      },
      "outputs": [
        {
          "output_type": "stream",
          "name": "stdout",
          "text": [
            "[45 43 40 39 39 38 53 46 41 36 41 42 41 39 42 49 32 39 42 43 36 40 39 42\n",
            " 32 27 37 38 51 40 40 42 52 41 43 36 29 39 42 49 43 43 41 52 38 39 47 36\n",
            " 44 37 45 46 46 33 45 43 35 42 39 41 39 35 38 47 44 43 44 54 48 43 34 50\n",
            " 36 41 54 34 42 50 42 42 43 36 52 43 38 42 44 46 41 36 50 36 38 43 34 39\n",
            " 47 34 43 34 36 39 44 45 45 37 43 40 29 42 42 41 39 53 49 43 39 35 35 43\n",
            " 44 39 45 39 38 42 35 32 38 36 51 47 37 44 34 45 48 44 43 43 43 45 36 45\n",
            " 42 38 40 40 41 37 42 41 33 43 43 36 48 49 39 40 46 35 48 44 41 39 40 37\n",
            " 44 46 42 41 36 37 51 40 39 43 38 51 41 33 34 39 49 44 39 42 38 36 45 41\n",
            " 46 33 53 45 37 35 51 43 44 39 34 38 48 42 37 34 39 43 44 36 38 46 40 47\n",
            " 34 42 33 36 44 34 36 33 43 46 35 42 42 39 53 39 34 49 40 47 35 46 47 48\n",
            " 54 51 41 42 43 47 40 51 44 46 44 40 44 45 44 46 37 43 47 42 43 39 59 38\n",
            " 31 39 46 46 45 39 35 39 41 44 46 35 45 42 45 44 45 47 43 50 35 39 47 42\n",
            " 47 39 37 34 40 40 44 48 48 43 42 44 39 46 52 45 37 40 41 39 45 41 48 44\n",
            " 42 53 34 52 34 34 37 40 41 43 49 37 29 40 38 53 40 40 50 43 35 43 44 32\n",
            " 37 41 30 42 43 40 29 49 50 42 40 35 46 41 41 37 41 44 41 46 39 36 38 44\n",
            " 47 40 49 50 38 60 48 55 33 52 42 36 35 48 41 43 52 56 48 31 43 38 49 50\n",
            " 46 52 35 42 49 38 45 41 49 39 38 44 33 39 38 35 47 35 49 40 40 48 39 46\n",
            " 43 35 40 48 40 41 50 30 52 33 34 53 38 40 44 39 37 33 46 38 40 48 37 46\n",
            " 46 37 44 41 49 47 52 37 39 35 43 40 41 41 39 45 42 44 49 50 44 29 34 45\n",
            " 50 45 38 38 41 41 46 41 40 43 44 39 32 43 42 40 49 33 40 43 45 48 38 49\n",
            " 47 46 51 37 38 54 42 45 42 45 43 44 38 45 35 33 43 50 34 42 44 39 45 43\n",
            " 46 47 38 61 52 46 49 35 39 29 43 43 43 41 58 36 44 37 32 38 39 49 45 38\n",
            " 46 34 41 44 48 41 35 31 38 48 45 39 38 41 42 46 49 40 35 36 47 39 41 52\n",
            " 47 44 39 39 34 47 38 39 47 36 45 43 37 34 40 47 48 45 46 40 43 51 45 43\n",
            " 28 52 36 42 53 53 48 44 50 43 35 39 43 38 41 46 50 46 41 41 39 41 44 47\n",
            " 42 38 46 42 49 40 42 36 31 47 51 37 40 41 38 49 43 38 43 46 47 35 34 34\n",
            " 39 50 45 46 42 39 48 46 44 55 42 48 39 45 45 41 49 42 47 43 47 36 40 33\n",
            " 33 45 42 44 37 52 30 41 36 47 39 47 37 40 44 41 45 41 47 42 44 46 48 40\n",
            " 34 49 41 45 35 40 33 49 41 37 37 50 44 49 35 50 43 42 47 51 44 43 44 42\n",
            " 35 43 40 37 44 52 44 36 40 41 43 39 44 36 40 33 45 50 38 38 46 39 40 33\n",
            " 42 34 44 41 45 37 45 33 34 44 39 43 41 43 46 36 44 43 37 43 33 42 54 45\n",
            " 32 31 39 48 35 34 40 42 40 49 46 46 42 28 40 46 34 42 43 46 49 44 40 42\n",
            " 37 53 43 44 42 41 39 44 46 42 45 42 47 35 40 33 49 44 43 35 42 40 40 42\n",
            " 44 41 36 38 35 42 35 37 38 40 41 40 40 42 54 51 42 39 35 36 40 38 52 46\n",
            " 44 41 43 31 38 34 36 42 41 39 39 39 46 49 41 38 37 31 47 40 39 39 33 40\n",
            " 41 36 57 45 48 37 40 52 38 30 38 50 47 54 38 35 48 50 37 41 52 47 47 42\n",
            " 48 38 51 38 46 42 34 32 42 41 37 44 40 50 42 41 44 49 33 54 39 42 47 32\n",
            " 46 37 47 37 45 31 28 47 27 46 46 31 31 39 41 42 39 43 42 44 41 41 42 45\n",
            " 41 32 43 36 38 45 46 40 47 41 55 36 43 47 39 47 39 49 38 30 39 40 38 45\n",
            " 46 30 54 39 38 48 45 44 41 44 49 40 37 37 44 48 36 37 40 38 45 45 39 40\n",
            " 38 50 41 42 38 46 45 38 42 37 36 38 44 52 36 38 46 41 40 41 45 36 40 45\n",
            " 37 48 43 47 40 39 38 35 42 41 43 37 42 40 53 36]\n"
          ]
        }
      ],
      "source": [
        "sample = stats.poisson.rvs(loc=12.7,\n",
        "                              mu=30,\n",
        "                              size=1000)\n",
        "print(sample)"
      ]
    },
    {
      "cell_type": "code",
      "execution_count": null,
      "metadata": {
        "id": "iGF9zJsv9DyJ"
      },
      "outputs": [],
      "source": [
        ""
      ]
    }
  ],
  "metadata": {
    "kernelspec": {
      "display_name": "Python 3",
      "language": "python",
      "name": "python3"
    },
    "language_info": {
      "codemirror_mode": {
        "name": "ipython",
        "version": 3
      },
      "file_extension": ".py",
      "mimetype": "text/x-python",
      "name": "python",
      "nbconvert_exporter": "python",
      "pygments_lexer": "ipython3",
      "version": "3.7.3"
    },
    "colab": {
      "name": "9/4.ipynb",
      "provenance": [],
      "include_colab_link": true
    }
  },
  "nbformat": 4,
  "nbformat_minor": 0
}