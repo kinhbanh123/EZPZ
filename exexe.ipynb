{
  "nbformat": 4,
  "nbformat_minor": 0,
  "metadata": {
    "colab": {
      "name": "exexe.ipynb",
      "provenance": [],
      "collapsed_sections": []
    },
    "kernelspec": {
      "name": "python3",
      "display_name": "Python 3"
    },
    "language_info": {
      "name": "python"
    }
  },
  "cells": [
    {
      "cell_type": "markdown",
      "metadata": {
        "id": "yKf8hbZtE3XH"
      },
      "source": [
        "Bài 1: Viết chương trình thực hiện các yêu cầu sau:\n",
        "- Nhập vào 1 số nguyên dương N từ bàn phím\n",
        "- Hãy xây dựng 1 dictionary với các phần tử chỉ mục và giá trị có dạng (i: log(i)) với I đi từ\n",
        "0 tới N\n",
        "- Hiển thị dictionary trên ra màn hình"
      ]
    },
    {
      "cell_type": "code",
      "metadata": {
        "colab": {
          "base_uri": "https://localhost:8080/"
        },
        "id": "anyJp8ah-ND2",
        "outputId": "48807df1-4f87-4be0-c728-7a08234a11e9"
      },
      "source": [
        "import math\n",
        "a = {}\n",
        "print(\"Give me the 'N' \")\n",
        "n = int(input())\n",
        "\n",
        "for i in range(0,n):\n",
        "  if i == 0:\n",
        "    a[i] = 'ERRoR'\n",
        "  else:\n",
        "    z = i\n",
        "    z = math.log(z)\n",
        "    a[i] = z\n",
        "print(a)\n"
      ],
      "execution_count": null,
      "outputs": [
        {
          "output_type": "stream",
          "name": "stdout",
          "text": [
            "Give me the 'N' \n",
            "9\n",
            "{0: 'ERRoR', 1: 0.0, 2: 0.6931471805599453, 3: 1.0986122886681098, 4: 1.3862943611198906, 5: 1.6094379124341003, 6: 1.791759469228055, 7: 1.9459101490553132, 8: 2.0794415416798357}\n"
          ]
        }
      ]
    },
    {
      "cell_type": "markdown",
      "metadata": {
        "id": "rhFYZ0D4E7oU"
      },
      "source": [
        "Bài 2: Viết chương trình thực hiện các yêu cầu sau:\n",
        "- Nhập vào từ bàn phím một chuỗi các giá trị (có thể là số nguyên, số thực hay các ký tự)\n",
        "cách nhau bởi dấu phẩy (“,”).\n",
        "- Chuyển chuỗi được nhập từ bàn phím thành một danh sách (list)\n",
        "- Hiển thị danh sách đó ra màn hình."
      ]
    },
    {
      "cell_type": "code",
      "metadata": {
        "colab": {
          "base_uri": "https://localhost:8080/"
        },
        "id": "e-k2h_sRExDJ",
        "outputId": "d4854e97-d540-49ad-985a-88911610bfc7"
      },
      "source": [
        "a = {}\n",
        "n = input(\" hay nhap cac thu vao day: \").split(',')\n",
        "a = n\n",
        "z = list(a) \n",
        "m = len(z)\n",
        "for i in range(1,m):\n",
        "  if z[i] == ' ' or z[i] == ',':\n",
        "    z[i] = []\n",
        "print(z)"
      ],
      "execution_count": null,
      "outputs": [
        {
          "output_type": "stream",
          "name": "stdout",
          "text": [
            " hay nhap cac thu vao daya,b,c,d\n",
            "['a', 'b', 'c', 'd']\n"
          ]
        }
      ]
    },
    {
      "cell_type": "markdown",
      "metadata": {
        "id": "kl7jDY3cFexw"
      },
      "source": [
        "Bài 3: Viết chương trình thực hiện các yêu cầu sau:\n",
        "- Nhập vào từ bàn phím một chuỗi các giá trị (có thể là số nguyên, số thực hay các ký tự)\n",
        "cách nhau bởi dấu phẩy (“,”).\n",
        "- Chuyển chuỗi được nhập từ bàn phím thành một tuple\n",
        "- Hiển thị tuple đó ra màn hình."
      ]
    },
    {
      "cell_type": "code",
      "metadata": {
        "colab": {
          "base_uri": "https://localhost:8080/"
        },
        "id": "xYuI74qyJFRc",
        "outputId": "242a2555-5b56-4d66-eed3-a01fd9f503a7"
      },
      "source": [
        "a = {}\n",
        "n = input(\" hay nhap cac thu vao day: \").split(',')\n",
        "a = n\n",
        "z = tuple(a) \n",
        "m = len(z)\n",
        "for i in range(1,m):\n",
        "  if z[i] == ' ' or z[i] == ',':\n",
        "    z[i] = []\n",
        "print(z)"
      ],
      "execution_count": null,
      "outputs": [
        {
          "output_type": "stream",
          "name": "stdout",
          "text": [
            " hay nhap cac thu vao day: a,b,c,d\n",
            "('a', 'b', 'c', 'd')\n"
          ]
        }
      ]
    },
    {
      "cell_type": "markdown",
      "metadata": {
        "id": "xuRAASWFFjyE"
      },
      "source": [
        "Bài 4: Viết chương trình thực hiện các yêu cầu sau:\n",
        "- Nhập vào 1 chuỗi các kí tự từ bàn phím, các từ cách nhau bởi ít nhất một khoảng trắng\n",
        "- Chuyển chuỗi vừa nhập thành 1 danh sách với điều kiện phân tách là dấu khoảng trắng\n",
        "(space)\n",
        "- Hiển thị danh sách thu được ra màn hình"
      ]
    },
    {
      "cell_type": "code",
      "metadata": {
        "id": "1Q0L2CwVPNAG",
        "colab": {
          "base_uri": "https://localhost:8080/"
        },
        "outputId": "56bcadd0-22cc-43bb-ac8b-2bc603f787d8"
      },
      "source": [
        "n = input(\" hay nhap cac thu vao day: \").split(' ')\n",
        "print(n)"
      ],
      "execution_count": null,
      "outputs": [
        {
          "output_type": "stream",
          "name": "stdout",
          "text": [
            " hay nhap cac thu vao day: a b c\n",
            "['a', 'b', 'c']\n"
          ]
        }
      ]
    },
    {
      "cell_type": "markdown",
      "metadata": {
        "id": "wJVTFAYrFqJc"
      },
      "source": [
        "Bài 5: Viết chương trình thực hiện các yêu cầu sau:\n",
        "- Nhập vào 1 danh sách các số nguyên từ bàn phím (Quá trình nhập dừng khi người dùng\n",
        "nhập vào 1 kí tự từ a đến z)\n",
        "- Hiển thị danh sách đó ra màn hình\n",
        "- Yêu cầu người dùng nhập vào một số nguyên N từ bàn phím\n",
        "\n",
        "- Tìm kiếm vị trí xuất hiện đầu tiên của N trong danh sách và hiển thị ra màn hình (nếu không\n",
        "có thì thông báo không tìm thấy ra màn hình).\n",
        "- Tìm kiếm tất cả các vị trí xuất hiện của N trong danh sách và hiển thị ra màn hình. (Nếu\n",
        "không tìm thấy thì thông báo không tìm được ra màn hình)"
      ]
    },
    {
      "cell_type": "code",
      "metadata": {
        "colab": {
          "base_uri": "https://localhost:8080/"
        },
        "id": "PLyHyYdJFuT8",
        "outputId": "08bfd624-d26c-4be5-d0e4-cf49fe51df5f"
      },
      "source": [
        "i = 1\n",
        "a = []\n",
        "b = []\n",
        "while i > 0:\n",
        "  print(\"hay nhap: \")\n",
        "  n = input()\n",
        "  z = n\n",
        "  if z.isalpha(): \n",
        "    i = i - 1\n",
        "  else: \n",
        "    a.append(n)\n",
        "print(a)\n",
        "print(\"oke duoc roi, next is N: \")\n",
        "m = int(input())\n",
        "m = str(m)\n",
        "for i in range(len(a)):\n",
        "  if a[i] == m:\n",
        "    b.append(i)\n",
        "if b == []:\n",
        "  print(\"khong co vi tri nao \")\n",
        "else:\n",
        "  print(\"vi tri dau tien la: \",b[0])\n",
        "  print(\"toan bo vi tri la \")\n",
        "  print(b)\n",
        "\n",
        "\n",
        "\n",
        "\n"
      ],
      "execution_count": null,
      "outputs": [
        {
          "output_type": "stream",
          "name": "stdout",
          "text": [
            "hay nhap: \n",
            "3\n",
            "hay nhap: \n",
            "5\n",
            "hay nhap: \n",
            "\n",
            "hay nhap: \n",
            "a\n",
            "['3', '5', '']\n",
            "oke duoc roi, next is N: \n",
            "3\n",
            "vi tri dau tien la:  0\n",
            "toan bo vi tri la \n",
            "[0]\n"
          ]
        }
      ]
    },
    {
      "cell_type": "code",
      "metadata": {
        "id": "MgpPIDimLK4U"
      },
      "source": [
        ""
      ],
      "execution_count": null,
      "outputs": []
    }
  ]
}