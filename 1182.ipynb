{
  "nbformat": 4,
  "nbformat_minor": 0,
  "metadata": {
    "colab": {
      "name": "1182.ipynb",
      "provenance": [],
      "authorship_tag": "ABX9TyMbjR46/Mc49VvxvcUqevoT",
      "include_colab_link": true
    },
    "kernelspec": {
      "name": "python3",
      "display_name": "Python 3"
    },
    "language_info": {
      "name": "python"
    }
  },
  "cells": [
    {
      "cell_type": "markdown",
      "metadata": {
        "id": "view-in-github",
        "colab_type": "text"
      },
      "source": [
        "<a href=\"https://colab.research.google.com/github/kinhbanh123/EZPZ/blob/main/1182.ipynb\" target=\"_parent\"><img src=\"https://colab.research.google.com/assets/colab-badge.svg\" alt=\"Open In Colab\"/></a>"
      ]
    },
    {
      "cell_type": "markdown",
      "metadata": {
        "id": "nmdoeAZLjUoE"
      },
      "source": [
        "1"
      ]
    },
    {
      "cell_type": "code",
      "metadata": {
        "colab": {
          "base_uri": "https://localhost:8080/"
        },
        "id": "D9QVL5Wxfm0q",
        "outputId": "58808eb7-223c-4e38-b8f4-43033ce24494"
      },
      "source": [
        "lit = []\n",
        "print(\"hay nhap do dai\")\n",
        "n = int(input())\n",
        "print(\"hay nhap\" , n ,\" so vao nao` \")\n",
        "for i in range(0,n):\n",
        "  lit.append(input())\n",
        "print(lit)\n",
        "for i in range(len(lit)-1):\n",
        "  for j in range(i+1,len(lit)):\n",
        "    if int(lit[i]) > int(lit[j]):\n",
        "      m = lit[i]\n",
        "      lit[i] = lit[j]\n",
        "      lit[j] = m \n",
        "print(lit)"
      ],
      "execution_count": null,
      "outputs": [
        {
          "output_type": "stream",
          "name": "stdout",
          "text": [
            "hay nhap do dai\n",
            "6\n",
            "hay nhap 6  so vao nao` \n",
            "4\n",
            "2\n",
            "7\n",
            "4\n",
            "1\n",
            "2\n",
            "['4', '2', '7', '4', '1', '2']\n",
            "['1', '2', '2', '4', '4', '7']\n"
          ]
        }
      ]
    },
    {
      "cell_type": "markdown",
      "metadata": {
        "id": "k7kdDqoWjWBy"
      },
      "source": [
        "2"
      ]
    },
    {
      "cell_type": "code",
      "metadata": {
        "colab": {
          "base_uri": "https://localhost:8080/"
        },
        "id": "91TQX5QOjTaO",
        "outputId": "6db3264c-4eba-4604-b184-70ed1f74560a"
      },
      "source": [
        "def nhap_danh_sach_so_nguyen(n):\n",
        "  print(\"hay nhap\" , n ,\" so vao nao` \")\n",
        "  for i in range(0,n):\n",
        "    lit.append(input())\n",
        "  return(lit)\n",
        "def sap_xep_danh_sach(lit):\n",
        "  for i in range(len(lit)):\n",
        "    for j in range(i+1,len(lit)):\n",
        "      if int(lit[i]) > int(lit[j]):\n",
        "        m = lit[i]\n",
        "        lit[i] = lit[j]\n",
        "        lit[j] = m \n",
        "  print(lit)\n",
        "if __name__ == \"__main__\":\n",
        "  lit = []\n",
        "  print(\"hay nhap do dai \")\n",
        "  n = int(input())\n",
        "  nhap_danh_sach_so_nguyen(n)\n",
        "  print(lit)\n",
        "  sap_xep_danh_sach(lit)"
      ],
      "execution_count": null,
      "outputs": [
        {
          "output_type": "stream",
          "name": "stdout",
          "text": [
            "hay nhap do dai \n",
            "4\n",
            "hay nhap 4  so vao nao` \n",
            "5\n",
            "4\n",
            "3\n",
            "2\n",
            "['5', '4', '3', '2']\n",
            "['2', '3', '4', '5']\n"
          ]
        }
      ]
    },
    {
      "cell_type": "markdown",
      "metadata": {
        "id": "jiQv1ztuofMY"
      },
      "source": [
        "3"
      ]
    },
    {
      "cell_type": "code",
      "metadata": {
        "colab": {
          "base_uri": "https://localhost:8080/"
        },
        "id": "XzQ-7Z3lnfiB",
        "outputId": "483aa074-f740-4784-95cb-81bb3d44f9ec"
      },
      "source": [
        "n = \"y\"\n",
        "lit = []\n",
        "while n == \"y\":\n",
        "  lit.append(input(\"hay nhap so vao nao\"))\n",
        "  print(\"neu khong muon nhap nua thi nhan n \")\n",
        "  a = input(\"n =\")\n",
        "  if a == \"n\" or a ==\"N\":\n",
        "    n = \"N\"\n",
        "for i in range(len(lit)-1):\n",
        "  for j in range(i+1,len(lit)):\n",
        "    if int(lit[i]) > int(lit[j]):\n",
        "      m = lit[i]\n",
        "      lit[i] = lit[j]\n",
        "      lit[j] = m \n",
        "print(lit)\n"
      ],
      "execution_count": null,
      "outputs": [
        {
          "output_type": "stream",
          "name": "stdout",
          "text": [
            "hay nhap so vao nao4\n",
            "neu khong muon nhap nua thi nhan n \n",
            "n =r\n",
            "hay nhap so vao nao4\n",
            "neu khong muon nhap nua thi nhan n \n",
            "n =n\n",
            "['4', '4']\n"
          ]
        }
      ]
    },
    {
      "cell_type": "markdown",
      "metadata": {
        "id": "O8YXSqDzYTs4"
      },
      "source": [
        "4"
      ]
    },
    {
      "cell_type": "code",
      "metadata": {
        "id": "pEchOMuWI7Da",
        "colab": {
          "base_uri": "https://localhost:8080/"
        },
        "outputId": "3613c638-1c30-44d4-8355-5dd0beeafb5b"
      },
      "source": [
        "\n",
        "def nhap_danh_sach_so_thuc():\n",
        "  n = \"y\"\n",
        "  while n == \"y\":\n",
        "    lit.append(input(\"hay nhap so vao nao\"))\n",
        "    print(\"neu khong muon nhap nua thi nhan n \")\n",
        "    a = input(\"n =\")\n",
        "    if a == \"n\" or a ==\"N\":\n",
        "      n = \"N\"\n",
        "  return(lit)\n",
        "def sap_xep_danh_sach(lit):\n",
        "  for i in range(len(lit)):\n",
        "    for j in range(i+1,len(lit)):\n",
        "      if int(lit[i]) > int(lit[j]):\n",
        "        m = lit[i]\n",
        "        lit[i] = lit[j]\n",
        "        lit[j] = m \n",
        "  print(lit)\n",
        "if __name__ == \"__main__\":\n",
        "  lit = []\n",
        "  nhap_danh_sach_so_thuc()\n",
        "  print(lit)\n",
        "  sap_xep_danh_sach(lit)"
      ],
      "execution_count": 23,
      "outputs": [
        {
          "output_type": "stream",
          "name": "stdout",
          "text": [
            "hay nhap so vao nao4\n",
            "neu khong muon nhap nua thi nhan n \n",
            "n =3\n",
            "hay nhap so vao nao5\n",
            "neu khong muon nhap nua thi nhan n \n",
            "n =t\n",
            "hay nhap so vao nao3\n",
            "neu khong muon nhap nua thi nhan n \n",
            "n =n\n",
            "['4', '5', '3']\n",
            "['3', '4', '5']\n"
          ]
        }
      ]
    },
    {
      "cell_type": "markdown",
      "metadata": {
        "id": "ahc5TsdhOk3C"
      },
      "source": [
        "5\n",
        "\n"
      ]
    },
    {
      "cell_type": "code",
      "metadata": {
        "colab": {
          "base_uri": "https://localhost:8080/"
        },
        "id": "N05_ZVNiYYbQ",
        "outputId": "b63d05fc-4ad1-4a4e-ff38-8d7f5f39bb8b"
      },
      "source": [
        "import random\n",
        "lit = []\n",
        "print(\"hay nhap so max input\")\n",
        "b = int(input())\n",
        "print(\"hay nhap so n \")\n",
        "n = int(input())\n",
        "for i in range(n):\n",
        "  lit.append(random.randint(0,b))\n",
        "print(lit)\n",
        "print(\"ban muon xep theo thu tu tang dan hay giam dan \")\n",
        "c = input(\"chon so 1 de tang dan \")\n",
        "if c == \"1\":\n",
        "  for i in range(len(lit)-1):\n",
        "    for j in range(i+1,len(lit)):\n",
        "      if int(lit[i]) > int(lit[j]):\n",
        "        m = lit[i]\n",
        "        lit[i] = lit[j]\n",
        "        lit[j] = m \n",
        "else:\n",
        "  for i in range(len(lit)-1):\n",
        "    for j in range(i+1,len(lit)):\n",
        "      if int(lit[i]) < int(lit[j]):\n",
        "        m = lit[i]\n",
        "        lit[i] = lit[j]\n",
        "        lit[j] = m \n",
        "print(lit)\n"
      ],
      "execution_count": 29,
      "outputs": [
        {
          "output_type": "stream",
          "name": "stdout",
          "text": [
            "hay nhap so max input\n",
            "10\n",
            "hay nhap so n \n",
            "5\n",
            "[5, 4, 8, 2, 5]\n",
            "ban muon xep theo thu tu tang dan hay giam dan \n",
            "chon so 1 de tang dan 2\n",
            "[8, 5, 5, 4, 2]\n"
          ]
        }
      ]
    },
    {
      "cell_type": "code",
      "metadata": {
        "colab": {
          "base_uri": "https://localhost:8080/"
        },
        "id": "rtmMny8ga9ky",
        "outputId": "9a49514d-6864-41c2-dd9e-324ef5e7b943"
      },
      "source": [
        "import random\n",
        "def sinh_ngau_nhien_danh_sach_so_nguyen():\n",
        "  print(\"hay nhap so max input\")\n",
        "  b = int(input())\n",
        "  print(\"hay nhap so n \")\n",
        "  n = int(input())\n",
        "  for i in range(n):\n",
        "    lit.append(random.randint(0,b))\n",
        "  return(lit)\n",
        "def sap_xep_giam_dan(lit):\n",
        "  for i in range(len(lit)-1):\n",
        "    for j in range(i+1,len(lit)):\n",
        "      if int(lit[i]) < int(lit[j]):\n",
        "        m = lit[i]\n",
        "        lit[i] = lit[j]\n",
        "        lit[j] = m \n",
        "  return(lit)\n",
        "def sap_xep_tang_dan(lit): \n",
        "  for i in range(len(lit)-1):\n",
        "    for j in range(i+1,len(lit)):\n",
        "      if int(lit[i]) > int(lit[j]):\n",
        "        m = lit[i]\n",
        "        lit[i] = lit[j]\n",
        "        lit[j] = m \n",
        "if __name__ == \"__main__\":\n",
        "  lit = []\n",
        "  sinh_ngau_nhien_danh_sach_so_nguyen()\n",
        "  print(\"ban muon xep theo thu tu tang dan hay giam dan \")\n",
        "  c = input(\"chon so 1 de tang dan \")\n",
        "  if c == \"1\":\n",
        "    sap_xep_tang_dan(lit)\n",
        "  else:\n",
        "    sap_xep_giam_dan(lit)\n",
        "  print(lit)"
      ],
      "execution_count": 33,
      "outputs": [
        {
          "output_type": "stream",
          "name": "stdout",
          "text": [
            "hay nhap so max input\n",
            "10\n",
            "hay nhap so n \n",
            "5\n",
            "ban muon xep theo thu tu tang dan hay giam dan \n",
            "chon so 1 de tang dan 1\n",
            "[0, 4, 5, 5, 10]\n"
          ]
        }
      ]
    }
  ]
}