{
  "nbformat": 4,
  "nbformat_minor": 0,
  "metadata": {
    "colab": {
      "name": "Ham.ipynb",
      "provenance": [],
      "collapsed_sections": [],
      "authorship_tag": "ABX9TyMeQob5qF/fORLb8cc4YPxC",
      "include_colab_link": true
    },
    "kernelspec": {
      "name": "python3",
      "display_name": "Python 3"
    },
    "language_info": {
      "name": "python"
    }
  },
  "cells": [
    {
      "cell_type": "markdown",
      "metadata": {
        "id": "view-in-github",
        "colab_type": "text"
      },
      "source": [
        "<a href=\"https://colab.research.google.com/github/kinhbanh123/EZPZ/blob/main/Ham.ipynb\" target=\"_parent\"><img src=\"https://colab.research.google.com/assets/colab-badge.svg\" alt=\"Open In Colab\"/></a>"
      ]
    },
    {
      "cell_type": "markdown",
      "metadata": {
        "id": "PYXh1LW9RRfw"
      },
      "source": [
        "1\n"
      ]
    },
    {
      "cell_type": "code",
      "metadata": {
        "colab": {
          "base_uri": "https://localhost:8080/"
        },
        "id": "Xm0BYKvBQGn0",
        "outputId": "160edc2a-9886-460a-debe-402ecdd208d6"
      },
      "source": [
        "def ind(mem):\n",
        "  print(mem)\n",
        "ind(\"Lập trình Java 2021\")\n",
        "\n"
      ],
      "execution_count": 39,
      "outputs": [
        {
          "output_type": "stream",
          "name": "stdout",
          "text": [
            "Lập trình Java 2021\n"
          ]
        }
      ]
    },
    {
      "cell_type": "markdown",
      "metadata": {
        "id": "v8jjTNV5RUNO"
      },
      "source": [
        "2"
      ]
    },
    {
      "cell_type": "code",
      "metadata": {
        "colab": {
          "base_uri": "https://localhost:8080/"
        },
        "id": "5Pdxokg9RSzo",
        "outputId": "05750d46-d049-445d-9b59-2bf80af4174c"
      },
      "source": [
        "def ind1(mem):\n",
        "  print(mem)\n",
        "mem = str(input(\"hay nhap: \"))\n",
        "ind1(mem)"
      ],
      "execution_count": 40,
      "outputs": [
        {
          "output_type": "stream",
          "name": "stdout",
          "text": [
            "hay nhap: avccasdhaskjd\n",
            "avccasdhaskjd\n"
          ]
        }
      ]
    },
    {
      "cell_type": "markdown",
      "metadata": {
        "id": "7itSQ9O2TEz4"
      },
      "source": [
        "3"
      ]
    },
    {
      "cell_type": "code",
      "metadata": {
        "colab": {
          "base_uri": "https://localhost:8080/"
        },
        "id": "hohBz-TgTFGP",
        "outputId": "e732a70d-0320-4e23-d848-2a55951c08a0"
      },
      "source": [
        "print(\"hay nhap so nguyen duong\")\n",
        "n = input()\n",
        "print(\"hay nhap thong diep\")\n",
        "m= input(str())\n",
        "if n.isdigit() ==True:\n",
        "   p = 0\n",
        "else:\n",
        "  while n.isdigit() == False:\n",
        "    print(\"hay nhap lai:\" )\n",
        "    n = input()\n",
        "for i in range(int(n)):\n",
        "  ind1(m)      "
      ],
      "execution_count": 41,
      "outputs": [
        {
          "output_type": "stream",
          "name": "stdout",
          "text": [
            "hay nhap so nguyen duong\n",
            "7\n",
            "hay nhap thong diep\n",
            "abc\n",
            "abc\n",
            "abc\n",
            "abc\n",
            "abc\n",
            "abc\n",
            "abc\n",
            "abc\n"
          ]
        }
      ]
    },
    {
      "cell_type": "markdown",
      "metadata": {
        "id": "pxibgeBkVaC9"
      },
      "source": [
        "4"
      ]
    },
    {
      "cell_type": "code",
      "metadata": {
        "colab": {
          "base_uri": "https://localhost:8080/"
        },
        "id": "hYRiSMdlWSC4",
        "outputId": "dc6f73f1-ae62-4e1e-c00b-1bb98c732cea"
      },
      "source": [
        "a = int(input(\"hay nhap a \"))\n",
        "b = int(input(\"hay nhap b \"))\n",
        "def giai1(a,b):\n",
        "  if a == 0:\n",
        "    x = \"vo nghiem\"\n",
        "  x = -b / a\n",
        "  return x\n",
        "giai1(a,b)"
      ],
      "execution_count": 44,
      "outputs": [
        {
          "name": "stdout",
          "output_type": "stream",
          "text": [
            "hay nhap a 3\n",
            "hay nhap b 2\n"
          ]
        },
        {
          "output_type": "execute_result",
          "data": {
            "text/plain": [
              "-0.6666666666666666"
            ]
          },
          "metadata": {},
          "execution_count": 44
        }
      ]
    },
    {
      "cell_type": "markdown",
      "metadata": {
        "id": "wVqPO3keW2QM"
      },
      "source": [
        "5"
      ]
    },
    {
      "cell_type": "code",
      "metadata": {
        "colab": {
          "base_uri": "https://localhost:8080/"
        },
        "id": "tTQeOz2wWkC7",
        "outputId": "3ddeac39-be47-49cd-ff92-73f4495efb66"
      },
      "source": [
        "import math\n",
        "a = int(input(\"hay nhap a \"))\n",
        "b = int(input(\"hay nhap b \"))\n",
        "c = int(input(\"hay nhap c \"))\n",
        "def giai2(a,b,c):\n",
        "  if a == 0 and b == 0:\n",
        "    x = c\n",
        "    return x\n",
        "  elif a == 0\n",
        "    x = -c / b\n",
        "    return x\n",
        "  else:  \n",
        "    lamda = b**2 - 4*a*c\n",
        "    if lamda < 0:\n",
        "      x = \" vo gia tri\"\n",
        "      return x\n",
        "    if lamda == 0:\n",
        "      x = -b / (2*a)\n",
        "      return x\n",
        "    if lamda > 0:\n",
        "      x1 = (-b + math.sqrt(lamda))/ (2*a)\n",
        "      x2 = (-b - math.sqrt(lamda))/ (2*a)\n",
        "      return(x1,x2)\n",
        "giai2(a,b,c)   \n",
        "\n"
      ],
      "execution_count": 27,
      "outputs": [
        {
          "name": "stdout",
          "output_type": "stream",
          "text": [
            "hay nhap a 2\n",
            "hay nhap b -7\n",
            "hay nhap c 3\n"
          ]
        },
        {
          "output_type": "execute_result",
          "data": {
            "text/plain": [
              "(3.0, 0.5)"
            ]
          },
          "metadata": {},
          "execution_count": 27
        }
      ]
    },
    {
      "cell_type": "markdown",
      "metadata": {
        "id": "7sv9u36mYUb8"
      },
      "source": [
        "6\n"
      ]
    },
    {
      "cell_type": "code",
      "metadata": {
        "colab": {
          "base_uri": "https://localhost:8080/"
        },
        "id": "iBIHMQcHYVXs",
        "outputId": "9a8ce877-5fbf-4665-821b-267a53ab4350"
      },
      "source": [
        "import math\n",
        "p = int(input())\n",
        "def giai2(a,b,c):\n",
        "  lamda = b**2 - 4*a*c\n",
        "  if lamda < 0:\n",
        "    x = \" vo gia tri\"\n",
        "    print(x)\n",
        "    return x\n",
        "  if lamda > 0:\n",
        "    x1 = (-b + math.sqrt(lamda))/ (2*a)\n",
        "    x2 = (-b - math.sqrt(lamda))/ (2*a)\n",
        "    return(x1,x2)\n",
        "\n",
        "def giai1(a,b):\n",
        "  x = -b / a\n",
        "  return x\n",
        "print(\"hay nhap lua chon cua ban: \")\n",
        "if p == 1:\n",
        "  a = int(input(\"hay nhap a \"))\n",
        "  b = int(input(\"hay nhap b \"))\n",
        "  giai1(a,b)\n",
        "if p == 2:\n",
        "  a = int(input(\"hay nhap a \"))\n",
        "  b = int(input(\"hay nhap b \"))\n",
        "  c = int(input(\"hay nhap c \"))\n",
        "  giai2(a,b,c)\n"
      ],
      "execution_count": 36,
      "outputs": [
        {
          "output_type": "stream",
          "name": "stdout",
          "text": [
            "2\n",
            "hay nhap lua chon cua ban: \n",
            "hay nhap a 1\n",
            "hay nhap b 2\n",
            "hay nhap c 3\n",
            " vo gia tri\n"
          ]
        }
      ]
    },
    {
      "cell_type": "markdown",
      "metadata": {
        "id": "R0tRACSIZm3r"
      },
      "source": [
        "7"
      ]
    },
    {
      "cell_type": "code",
      "metadata": {
        "colab": {
          "base_uri": "https://localhost:8080/"
        },
        "id": "De0Qrd8rZnH2",
        "outputId": "11bea277-b378-494d-dd75-b9537d0b1ed9"
      },
      "source": [
        "import math\n",
        "p = int(input())\n",
        "def giai2(a,b,c):\n",
        "  lamda = b**2 - 4*a*c\n",
        "  if lamda < 0:\n",
        "    x = \" vo gia tri\"\n",
        "    print(x)\n",
        "    return x\n",
        "  if lamda > 0:\n",
        "    x1 = (-b + math.sqrt(lamda))/ (2*a)\n",
        "    x2 = (-b - math.sqrt(lamda))/ (2*a)\n",
        "    return(x1,x2)\n",
        "\n",
        "def giai1(a,b):\n",
        "  x = -b / a\n",
        "  return x\n",
        "print(\"hay nhap lua chon cua ban: \")\n",
        "\n",
        "\n",
        "\n",
        "while p != 0:\n",
        "  if p == 1:\n",
        "    a = int(input(\"hay nhap a \"))\n",
        "    b = int(input(\"hay nhap b \"))\n",
        "    giai1(a,b)\n",
        "  if p == 2:\n",
        "    a = int(input(\"hay nhap a \"))\n",
        "    b = int(input(\"hay nhap b \"))\n",
        "    c = int(input(\"hay nhap c \"))\n",
        "    giai2(a,b,c)\n",
        "  print(\"neu muon tiep tuc, hay nhap p != 0\")\n",
        "  p = int(input())"
      ],
      "execution_count": 38,
      "outputs": [
        {
          "name": "stdout",
          "output_type": "stream",
          "text": [
            "3\n",
            "hay nhap lua chon cua ban: \n",
            "neu muon tiep tuc, hay nhap p != 0\n",
            "2\n",
            "hay nhap a 1\n",
            "hay nhap b 2\n",
            "hay nhap c 3\n",
            " vo gia tri\n",
            "neu muon tiep tuc, hay nhap p != 0\n",
            "0\n"
          ]
        }
      ]
    }
  ]
}