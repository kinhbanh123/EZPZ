{
  "nbformat": 4,
  "nbformat_minor": 0,
  "metadata": {
    "colab": {
      "name": "118.ipynb",
      "provenance": [],
      "authorship_tag": "ABX9TyP2ZEMch3LTuXUzpYmZQ8c4",
      "include_colab_link": true
    },
    "kernelspec": {
      "name": "python3",
      "display_name": "Python 3"
    },
    "language_info": {
      "name": "python"
    }
  },
  "cells": [
    {
      "cell_type": "markdown",
      "metadata": {
        "id": "view-in-github",
        "colab_type": "text"
      },
      "source": [
        "<a href=\"https://colab.research.google.com/github/kinhbanh123/EZPZ/blob/main/118.ipynb\" target=\"_parent\"><img src=\"https://colab.research.google.com/assets/colab-badge.svg\" alt=\"Open In Colab\"/></a>"
      ]
    },
    {
      "cell_type": "markdown",
      "metadata": {
        "id": "4wsqLrIr-bZ8"
      },
      "source": [
        "1"
      ]
    },
    {
      "cell_type": "code",
      "metadata": {
        "colab": {
          "base_uri": "https://localhost:8080/"
        },
        "id": "YN8sZtT37RHr",
        "outputId": "ec5a8822-44a2-4155-e0a6-47e9920e6789"
      },
      "source": [
        "import random\n",
        "li = []\n",
        "print(\"hay nhap so a\")\n",
        "a = int(input())\n",
        "print(\"hay nhap so b\")\n",
        "b = int(input())\n",
        "n = random.randint(1,b)\n",
        "for i in range(n-1):\n",
        "  li.append(random.randint(a,b))\n",
        "print(\"hay nhap so can tim\")\n",
        "c = int(input())\n",
        "e = 0\n",
        "for i in range(len(li)):\n",
        "  if c == li[i]:\n",
        "    e = e + 1\n",
        "    print(\"vi tri so\", i)\n",
        "    break\n",
        "  if e == 0:\n",
        "    print(\"khong co so nao ca\")\n",
        "    break\n"
      ],
      "execution_count": 10,
      "outputs": [
        {
          "output_type": "stream",
          "name": "stdout",
          "text": [
            "hay nhap so a\n",
            "1\n",
            "hay nhap so b\n",
            "9\n",
            "hay nhap so can tim\n",
            "5\n",
            "khong co so nao ca\n"
          ]
        }
      ]
    },
    {
      "cell_type": "markdown",
      "metadata": {
        "id": "h5aQPl2m-aH2"
      },
      "source": [
        "2"
      ]
    },
    {
      "cell_type": "code",
      "metadata": {
        "id": "b9XzscTj-OYl"
      },
      "source": [
        "import random\n",
        "li = []\n",
        "print(\"hay nhap so a\")\n",
        "a = int(input())\n",
        "print(\"hay nhap so b\")\n",
        "b = int(input())\n",
        "n = random.randint(1,b)\n",
        "for i in range(n-1):\n",
        "  li.append(random.randint(a,b))\n",
        "print(\"hay nhap so can tim\")\n",
        "c = int(input())\n",
        "e = 0\n",
        "for i in range(len(li)):\n",
        "  if c == li[i]:\n",
        "    e = e + 1\n",
        "    print(\"vi tri so\", i)\n",
        "    print(\"so lan lap\", i)\n",
        "    break\n",
        "  if e == 0:\n",
        "    print(\"khong co so nao ca\")\n",
        "    break"
      ],
      "execution_count": null,
      "outputs": []
    },
    {
      "cell_type": "markdown",
      "metadata": {
        "id": "p1Zn3VvW-waH"
      },
      "source": [
        "3"
      ]
    },
    {
      "cell_type": "code",
      "metadata": {
        "colab": {
          "base_uri": "https://localhost:8080/"
        },
        "id": "kBuNbpB2-xBF",
        "outputId": "629e070d-dbb2-4817-edf8-348fc502f4b4"
      },
      "source": [
        "import random\n",
        "li = []\n",
        "print(\"hay nhap so a\")\n",
        "a = int(input())\n",
        "print(\"hay nhap so b\")\n",
        "b = int(input())\n",
        "n = random.randint(1,b)\n",
        "for i in range(n-1):\n",
        "  li.append(random.randint(a,b))\n",
        "print(\"hay nhap so can tim\")\n",
        "c = int(input())\n",
        "e = 0\n",
        "print(li)\n",
        "for i in range(len(li)-1):\n",
        "  o = int(li[i])\n",
        "  for j in range(i+1,len(li)):\n",
        "    p = int(li[j])\n",
        "    if o > p:\n",
        "      d = li[j]\n",
        "      li[j] = li[i] \n",
        "      li[i] = d\n",
        "print(li)\n",
        "for i in range(len(li)):\n",
        "  if c == li[i]:\n",
        "    e = e + 1\n",
        "    print(\"vi tri so\", i)\n",
        "    print(\"so lan lap\", i)\n",
        "    break\n",
        "  if e == 0:\n",
        "    print(\"khong co so nao ca\")\n",
        "    break"
      ],
      "execution_count": 21,
      "outputs": [
        {
          "output_type": "stream",
          "name": "stdout",
          "text": [
            "hay nhap so a\n",
            "1\n",
            "hay nhap so b\n",
            "40\n",
            "hay nhap so can tim\n",
            "4\n",
            "[34, 25, 10, 11, 24, 8, 8, 17, 14, 38, 33, 24, 36, 18, 6, 15, 16, 23, 16, 26, 4, 5, 1, 19, 18, 8, 39, 35, 5, 30, 26, 32, 8]\n",
            "[8, 32, 26, 30, 5, 8, 18, 19, 1, 5, 4, 26, 16, 23, 35, 16, 15, 6, 18, 24, 33, 14, 17, 8, 8, 24, 11, 10, 36, 25, 34, 38, 39]\n",
            "khong co so nao ca\n"
          ]
        }
      ]
    },
    {
      "cell_type": "markdown",
      "metadata": {
        "id": "gyi3tGAUGndu"
      },
      "source": [
        "4\n"
      ]
    },
    {
      "cell_type": "code",
      "metadata": {
        "id": "dzpNBSMRGoP1"
      },
      "source": [
        "import random\n",
        "li = []\n",
        "print(\"hay nhap so a\")\n",
        "a = int(input())\n",
        "print(\"hay nhap so b\")\n",
        "b = int(input())\n",
        "n = random.randint(1,b)\n",
        "for i in range(n-1):\n",
        "  li.append(random.randint(a,b))\n",
        "print(\"hay nhap so can tim\")\n",
        "c = int(input())\n",
        "e = 0\n",
        "print(li)\n",
        "for i in range(len(li)-1):\n",
        "  o = int(li[i])\n",
        "  for j in range(i+1,len(li)):\n",
        "    p = int(li[j])\n",
        "    if o > p:\n",
        "      d = li[j]\n",
        "      li[j] = li[i] \n",
        "      li[i] = d\n",
        "print(li)\n",
        "for i in range(len(li)):\n",
        "  if c == li[i]:\n",
        "    e = e + 1\n",
        "    print(\"vi tri so\", i)\n",
        "    print(\"so lan lap\", i)\n",
        "  if e == 0:\n",
        "    print(\"khong co so nao ca\")\n",
        "    break"
      ],
      "execution_count": null,
      "outputs": []
    }
  ]
}